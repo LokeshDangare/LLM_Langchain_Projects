{
 "cells": [
  {
   "cell_type": "code",
   "execution_count": 14,
   "metadata": {},
   "outputs": [],
   "source": [
    "import os\n",
    "from dotenv import load_dotenv, find_dotenv\n",
    "_ = load_dotenv(find_dotenv())\n",
    "groq_api_key = os.environ[\"GROQ_API_KEY\"]"
   ]
  },
  {
   "cell_type": "code",
   "execution_count": 15,
   "metadata": {},
   "outputs": [],
   "source": [
    "from langchain_groq import ChatGroq\n",
    "llamaChatModel = ChatGroq(\n",
    "    model=\"llama3-70b-8192\"\n",
    ")"
   ]
  },
  {
   "cell_type": "code",
   "execution_count": 16,
   "metadata": {},
   "outputs": [
    {
     "name": "stdout",
     "output_type": "stream",
     "text": [
      "Lonavala! A popular hill station in Maharashtra, India, known for its breathtaking scenery, pleasant climate, and proximity to Mumbai and Pune. Here's what you need to know about Lonavala:\n",
      "\n",
      "**Location**: Lonavala is situated in the Pune district of Maharashtra, approximately 96 km (60 miles) southeast of Mumbai and 64 km (40 miles) northwest of Pune.\n",
      "\n",
      "**Climate**: Lonavala has a mild climate throughout the year, with temperatures ranging from 12°C to 35°C (54°F to 95°F). The best time to visit is during the monsoon season (June to September) when the hills are lush green and the waterfalls are at their peak.\n",
      "\n",
      "**Tourist Attractions**:\n",
      "\n",
      "1. **Tiger's Leap**: A popular viewpoint with a cliff that resembles a tiger's leap, offering stunning views of the valley.\n",
      "2. **Bhushi Dam**: A beautiful dam surrounded by lush greenery, perfect for a picnic or a relaxing walk.\n",
      "3. **Lonavala Lake**: A serene lake with a beautiful garden and a walking path, ideal for boating and relaxation.\n",
      "4. **Rajmachi Point**: A viewpoint that offers breathtaking views of the Rajmachi Fort and the surrounding hills.\n",
      "5. **Karla Caves**: Ancient Buddhist caves dating back to the 2nd century BCE, featuring intricate carvings and sculptures.\n",
      "6. **Lion's Point**: A scenic viewpoint with a cliff that resembles a lion's paw, offering stunning views of the valley.\n",
      "7. **Duke's Nose**: A popular trekking spot with a unique rock formation resembling a duke's nose.\n",
      "\n",
      "**Things to Do**:\n",
      "\n",
      "1. **Trekking**: Lonavala offers numerous trekking trails for all levels, including the popular Rajmachi Fort trek.\n",
      "2. **Water Sports**: Enjoy water sports like kayaking, paddle boating, and swimming at the Bhushi Dam or Lonavala Lake.\n",
      "3. **Food**: Savor the local cuisine, including misal pav, vada pav, and Lonavala's famous chikki (a sweet snack made from jaggery and nuts).\n",
      "4. **Shopping**: Visit the local markets to buy souvenirs, handicrafts, and chikki.\n",
      "5. **Relaxation**: Unwind at one of the many spas, resorts, or hotels in Lonavala, offering relaxing massages and other wellness treatments.\n",
      "\n",
      "**How to Reach**:\n",
      "\n",
      "1. **By Road**: Lonavala is well connected to Mumbai and Pune by road. You can take a bus or hire a taxi from either city.\n",
      "2. **By Train**: The nearest railway station is Lonavala Railway Station, which is connected to Mumbai and Pune by regular trains.\n",
      "3. **By Air**: The nearest airport is Pune Airport, which is approximately 64 km (40 miles) from Lonavala.\n",
      "\n",
      "**Tips**:\n",
      "\n",
      "1. **Best Time to Visit**: Monsoon season (June to September) for lush greenery and waterfalls, or winter season (December to February) for a cooler climate.\n",
      "2. **Accommodation**: Book your accommodation in advance, especially during peak season.\n",
      "3. **Clothing**: Wear comfortable clothing and shoes, and don't forget to carry an umbrella or raincoat during the monsoon season.\n",
      "\n",
      "Overall, Lonavala is a perfect getaway from the hustle and bustle of city life, offering a mix of adventure, relaxation, and natural beauty.\n"
     ]
    }
   ],
   "source": [
    "messages = [\n",
    "    (\"system\", \"You are an helpful assistant\"),\n",
    "    (\"human\", \"Tell me about lonavala.\")\n",
    "]\n",
    "\n",
    "response = llamaChatModel.invoke(messages)\n",
    "print(response.content)"
   ]
  },
  {
   "cell_type": "markdown",
   "metadata": {},
   "source": [
    "### Data Loader"
   ]
  },
  {
   "cell_type": "code",
   "execution_count": 17,
   "metadata": {},
   "outputs": [],
   "source": [
    "# TXT Data Loading....\n",
    "\n",
    "from langchain_community.document_loaders import TextLoader\n",
    "loader = TextLoader(\"data/be-good.txt\")\n",
    "\n",
    "loaded_data = loader.load()"
   ]
  },
  {
   "cell_type": "code",
   "execution_count": 18,
   "metadata": {},
   "outputs": [
    {
     "data": {
      "text/plain": [
       "[Document(metadata={'source': 'data/be-good.txt'}, page_content='Be good\\n\\nApril 2008(This essay is derived from a talk at the 2008 Startup School.)About a month after we started Y Combinator we came up with the\\nphrase that became our motto: Make something people want.  We\\'ve\\nlearned a lot since then, but if I were choosing now that\\'s still\\nthe one I\\'d pick.Another thing we tell founders is not to worry too much about the\\nbusiness model, at least at first.  Not because making money is\\nunimportant, but because it\\'s so much easier than building something\\ngreat.A couple weeks ago I realized that if you put those two ideas\\ntogether, you get something surprising.  Make something people want.\\nDon\\'t worry too much about making money.  What you\\'ve got is a\\ndescription of a charity.When you get an unexpected result like this, it could either be a\\nbug or a new discovery.  Either businesses aren\\'t supposed to be\\nlike charities, and we\\'ve proven by reductio ad absurdum that one\\nor both of the principles we began with is false.  Or we have a new\\nidea.I suspect it\\'s the latter, because as soon as this thought occurred\\nto me, a whole bunch of other things fell into place.ExamplesFor example, Craigslist.  It\\'s not a charity, but they run it like\\none.  And they\\'re astoundingly successful.  When you scan down the\\nlist of most popular web sites, the number of employees at Craigslist\\nlooks like a misprint. Their revenues aren\\'t as high as they could\\nbe, but most startups would be happy to trade places with them.In Patrick O\\'Brian\\'s novels, his captains always try to get upwind\\nof their opponents.  If you\\'re upwind, you decide when and if to\\nengage the other ship.  Craigslist is effectively upwind of enormous\\nrevenues.  They\\'d face some challenges if they wanted to make more,\\nbut not the sort you face when you\\'re tacking upwind, trying to\\nforce a crappy product on ambivalent users by spending ten times\\nas much on sales as on development.  [1]I\\'m not saying startups should aim to end up like Craigslist.\\nThey\\'re a product of unusual circumstances.  But they\\'re a good\\nmodel for the early phases.Google looked a lot like a charity in the beginning. They didn\\'t\\nhave ads for over a year.  At year 1, Google was indistinguishable\\nfrom a nonprofit.  If a nonprofit or government organization had\\nstarted a project to index the web, Google at year 1 is the limit\\nof what they\\'d have produced.Back when I was working on spam filters I thought it would be a\\ngood idea to have a web-based email service with good spam filtering.\\nI wasn\\'t thinking of it as a company.  I just wanted to keep people\\nfrom getting spammed.  But as I thought more about this project, I\\nrealized it would probably have to be a company.  It would cost\\nsomething to run, and it would be a pain to fund with grants and\\ndonations.That was a surprising realization.  Companies often claim to be\\nbenevolent, but it was surprising to realize there were purely\\nbenevolent projects that had to be embodied as companies to work.I didn\\'t want to start another company, so I didn\\'t do it.  But if\\nsomeone had, they\\'d probably be quite rich now.  There was a window\\nof about two years when spam was increasing rapidly but all the big\\nemail services had terrible filters.  If someone had launched a\\nnew, spam-free mail service, users would have flocked to it.Notice the pattern here?  From either direction we get to the same\\nspot.  If you start from successful startups, you find they often\\nbehaved like nonprofits.  And if you start from ideas for nonprofits,\\nyou find they\\'d often make good startups.PowerHow wide is this territory?  Would all good nonprofits be good\\ncompanies?  Possibly not.  What makes Google so valuable is that\\ntheir users have money.  If you make people with money love you,\\nyou can probably get some of it.  But could you also base a successful\\nstartup on behaving like a nonprofit to people who don\\'t have money?\\nCould you, for example, grow a successful startup out of curing an\\nunfashionable but deadly disease like malaria?I\\'m not sure, but I suspect that if you pushed this idea, you\\'d be\\nsurprised how far it would go.  For example, people who apply to Y\\nCombinator don\\'t generally have much money, and yet we can profit\\nby helping them, because with our help they could make money.  Maybe\\nthe situation is similar with malaria.  Maybe an organization that\\nhelped lift its weight off a country could benefit from the resulting\\ngrowth.I\\'m not proposing this is a serious idea.  I don\\'t know anything\\nabout malaria.  But I\\'ve been kicking ideas around long enough to\\nknow when I come across a powerful one.One way to guess how far an idea extends is to ask yourself at what\\npoint you\\'d bet against it.  The thought of betting against benevolence\\nis alarming in the same way as saying that something is technically\\nimpossible.  You\\'re just asking to be made a fool of, because these\\nare such powerful forces.  [2]For example, initially I thought maybe this principle only applied\\nto Internet startups.  Obviously it worked for Google, but what\\nabout Microsoft?  Surely Microsoft isn\\'t benevolent?  But when I\\nthink back to the beginning, they were.  Compared to IBM they were\\nlike Robin Hood.  When IBM introduced the PC, they thought they\\nwere going to make money selling hardware at high prices.  But by\\ngaining control of the PC standard, Microsoft opened up the market\\nto any manufacturer.  Hardware prices plummeted, and lots of people\\ngot to have computers who couldn\\'t otherwise have afforded them.\\nIt\\'s the sort of thing you\\'d expect Google to do.Microsoft isn\\'t so benevolent now.  Now when one thinks of what\\nMicrosoft does to users, all the verbs that come to mind begin with\\nF.  [3] And yet it doesn\\'t seem to pay.\\nTheir stock price has been flat for years.  Back when they were\\nRobin Hood, their stock price rose like Google\\'s.  Could there be\\na connection?You can see how there would be.  When you\\'re small, you can\\'t bully\\ncustomers, so you have to charm them.  Whereas when you\\'re big you\\ncan maltreat them at will, and you tend to, because it\\'s easier\\nthan satisfying them.  You grow big by being nice, but you can stay\\nbig by being mean.You get away with it till the underlying conditions change, and\\nthen all your victims escape.  So \"Don\\'t be evil\" may be the most\\nvaluable thing Paul Buchheit made for Google, because it may turn\\nout to be an elixir of corporate youth.  I\\'m sure they find it\\nconstraining, but think how valuable it will be if it saves them\\nfrom lapsing into the fatal laziness that afflicted Microsoft and\\nIBM.The curious thing is, this elixir is freely available to any other\\ncompany.  Anyone can adopt \"Don\\'t be evil.\"  The catch is that\\npeople will hold you to it.  So I don\\'t think you\\'re going to see\\nrecord labels or tobacco companies using this discovery.MoraleThere\\'s a lot of external evidence that benevolence works.  But how\\ndoes it work?  One advantage of investing in a large number of\\nstartups is that you get a lot of data about how they work.  From\\nwhat we\\'ve seen, being good seems to help startups in three ways:\\nit improves their morale, it makes other people want to help them,\\nand above all, it helps them be decisive.Morale is tremendously important to a startup—so important\\nthat morale alone is almost enough to determine success.  Startups\\nare often described as emotional roller-coasters. One minute you\\'re\\ngoing to take over the world, and the next you\\'re doomed.  The\\nproblem with feeling you\\'re doomed is not just that it makes you\\nunhappy, but that it makes you stop working.  So the downhills\\nof the roller-coaster are more of a self fulfilling prophecy than\\nthe uphills.  If feeling you\\'re going to succeed makes you work\\nharder, that probably improves your chances of succeeding, but if\\nfeeling you\\'re going to fail makes you stop working, that practically\\nguarantees you\\'ll fail.Here\\'s where benevolence comes in.  If you feel you\\'re really helping\\npeople, you\\'ll keep working even when it seems like your startup\\nis doomed.  Most of us have some amount of natural benevolence.\\nThe mere fact that someone needs you makes you want to help them.\\nSo if you start the kind of startup where users come back each day,\\nyou\\'ve basically built yourself a giant tamagotchi.  You\\'ve made\\nsomething you need to take care of.Blogger is a famous example of a startup that went through really\\nlow lows and survived.  At one point they ran out of money and\\neveryone left. Evan Williams came in to work the next day, and there\\nwas no one but him.  What kept him going?  Partly that users needed\\nhim.  He was hosting thousands of people\\'s blogs. He couldn\\'t just\\nlet the site die.There are many advantages of launching quickly, but the most important\\nmay be that once you have users, the tamagotchi effect kicks in.\\nOnce you have users to take care of, you\\'re forced to figure out\\nwhat will make them happy, and that\\'s actually very valuable\\ninformation.The added confidence that comes from trying to help people can\\nalso help you with investors. One of the founders of \\nChatterous told \\nme recently that he and his cofounder had decided that this service\\nwas something the world needed, so they were going to keep working\\non it no matter what, even if they had to move back to Canada and live\\nin their parents\\' basements.Once they realized this, they stopped caring so much what investors thought\\nabout them.  They still met with them, but they weren\\'t going to\\ndie if they didn\\'t get their money.  And you know what?  The investors\\ngot a lot more interested.  They could sense that the Chatterouses\\nwere going to do this startup with or without them.If you\\'re really committed and your startup is cheap to run, you\\nbecome very hard to kill.  And practically all startups, even the\\nmost successful, come close to death at some point.  So if doing\\ngood for people gives you a sense of mission that makes you harder\\nto kill, that alone more than compensates for whatever you lose by\\nnot choosing a more selfish project.HelpAnother advantage of being good is that it makes other people want\\nto help you.  This too seems to be an inborn trait in humans.One of the startups we\\'ve funded, Octopart, is currently locked in\\na classic battle of good versus evil.  They\\'re a search site for\\nindustrial components.  A lot of people need to search for components,\\nand before Octopart there was no good way to do it.  That, it turned\\nout, was no coincidence.Octopart built the right way to search for components.  Users like\\nit and they\\'ve been growing rapidly.  And yet for most of Octopart\\'s\\nlife, the biggest distributor, Digi-Key, has been trying to force\\nthem take their prices off the site.  Octopart is sending them\\ncustomers for free, and yet Digi-Key is trying to make that traffic\\nstop.  Why?  Because their current business model depends on\\novercharging people who have incomplete information about prices.\\nThey don\\'t want search to work.The Octoparts are the nicest guys in the world.  They dropped out\\nof the PhD program in physics at Berkeley to do this.  They just\\nwanted to fix a problem they encountered in their research.  Imagine\\nhow much time you could save the world\\'s engineers if they could\\ndo searches online.  So when I hear that a big, evil company is\\ntrying to stop them in order to keep search broken, it makes me\\nreally want to help them. It makes me spend more time on the Octoparts\\nthan I do with most of the other startups we\\'ve funded.  It just\\nmade me spend several minutes telling you how great they are.  Why?\\nBecause they\\'re good guys and they\\'re trying to help the world.If you\\'re benevolent, people will rally around you: investors,\\ncustomers, other companies, and potential employees.  In the long\\nterm the most important may be the potential employees.  I think\\neveryone knows now that \\ngood hackers are much better than mediocre\\nones.  If you can attract the best hackers to work for you, as\\nGoogle has, you have a big advantage.  And the very best hackers\\ntend to be idealistic.  They\\'re not desperate for a job.  They can\\nwork wherever they want.  So most want to work on things that will\\nmake the world better.CompassBut the most important advantage of being good is that it acts as\\na compass.  One of the hardest parts of doing a startup is that you\\nhave so many choices.  There are just two or three of you, and a\\nthousand things you could do. How do you decide?Here\\'s the answer: Do whatever\\'s best for your users.  You can hold\\nonto this like a rope in a hurricane, and it will save you if\\nanything can.  Follow it and it will take you through everything\\nyou need to do.It\\'s even the answer to questions that seem unrelated, like how to\\nconvince investors to give you money.  If you\\'re a good salesman,\\nyou could try to just talk them into it.  But the more reliable\\nroute is to convince them through your users: if you make something\\nusers love enough to tell their friends, you grow exponentially,\\nand that will convince any investor.Being good is a particularly useful strategy for making decisions\\nin complex situations because it\\'s stateless.  It\\'s like telling\\nthe truth.  The trouble with lying is that you have to remember\\neverything you\\'ve said in the past to make sure you don\\'t contradict\\nyourself.  If you tell the truth you don\\'t have to remember anything,\\nand that\\'s a really useful property in domains where things happen\\nfast.For example, Y Combinator has now invested in 80 startups, 57 of\\nwhich are still alive.  (The rest have died or merged or been\\nacquired.)  When you\\'re trying to advise 57 startups, it turns out\\nyou have to have a stateless algorithm.  You can\\'t have ulterior\\nmotives when you have 57 things going on at once, because you can\\'t\\nremember them.  So our rule is just to do whatever\\'s best for the\\nfounders.  Not because we\\'re particularly benevolent, but because\\nit\\'s the only algorithm that works on that scale.When you write something telling people to be good, you seem to be\\nclaiming to be good yourself.  So I want to say explicitly that I\\nam not a particularly good person.  When I was a kid I was firmly\\nin the camp of bad.  The way adults used the word good, it seemed\\nto be synonymous with quiet, so I grew up very suspicious of it.You know how there are some people whose names come up in conversation\\nand everyone says \"He\\'s such a great guy?\"  People never say\\nthat about me.  The best I get is \"he means well.\"  I am not claiming\\nto be good.  At best I speak good as a second language.So I\\'m not suggesting you be good in the usual sanctimonious way.\\nI\\'m suggesting it because it works.  It will work not just as a\\nstatement of \"values,\" but as a guide to strategy,\\nand even a design spec for software.  Don\\'t just not be evil.  Be\\ngood.Notes[1] Fifty years ago\\nit would have seemed shocking for a public company not to pay\\ndividends.  Now many tech companies don\\'t.  The markets seem to\\nhave figured out how to value potential dividends.  Maybe that isn\\'t\\nthe last step in this evolution.  Maybe markets will eventually get\\ncomfortable with potential earnings. (VCs already are, and at least\\nsome of them consistently make money.)I realize this sounds like the stuff one used to hear about the\\n\"new economy\" during the Bubble.  Believe me, I was not drinking\\nthat kool-aid at the time.  But I\\'m convinced there were some \\ngood\\nideas buried in Bubble thinking.  For example, it\\'s ok to focus on\\ngrowth instead of profits—but only if the growth is genuine.\\nYou can\\'t be buying users; that\\'s a pyramid scheme.   But a company\\nwith rapid, genuine growth is valuable, and eventually markets learn\\nhow to value valuable things.[2] The idea of starting\\na company with benevolent aims is currently undervalued, because\\nthe kind of people who currently make that their explicit goal don\\'t\\nusually do a very good job.It\\'s one of the standard career paths of trustafarians to start\\nsome vaguely benevolent business.  The problem with most of them\\nis that they either have a bogus political agenda or are feebly\\nexecuted.  The trustafarians\\' ancestors didn\\'t get rich by preserving\\ntheir traditional culture; maybe people in Bolivia don\\'t want to\\neither.  And starting an organic farm, though it\\'s at least\\nstraightforwardly benevolent, doesn\\'t help people on the scale that\\nGoogle does.Most explicitly benevolent projects don\\'t hold themselves sufficiently\\naccountable.  They act as if having good intentions were enough to\\nguarantee good effects.[3] Users dislike their\\nnew operating system so much that they\\'re starting petitions to\\nsave the old one.  And the old one was nothing special.  The hackers\\nwithin Microsoft must know in their hearts that if the company\\nreally cared about users they\\'d just advise them to switch to OSX.Thanks to Trevor Blackwell, Paul Buchheit, Jessica Livingston,\\nand Robert Morris for reading drafts of this.')]"
      ]
     },
     "execution_count": 18,
     "metadata": {},
     "output_type": "execute_result"
    }
   ],
   "source": [
    "loaded_data"
   ]
  },
  {
   "cell_type": "code",
   "execution_count": 19,
   "metadata": {},
   "outputs": [],
   "source": [
    "# CSV Data Loader....\n",
    "\n",
    "from langchain_community.document_loaders import CSVLoader\n",
    "loader = CSVLoader(\"data/Street_Tree_List.csv\")\n",
    "\n",
    "loaded_data = loader.load()"
   ]
  },
  {
   "cell_type": "code",
   "execution_count": 20,
   "metadata": {},
   "outputs": [],
   "source": [
    "#loaded_data"
   ]
  },
  {
   "cell_type": "code",
   "execution_count": null,
   "metadata": {},
   "outputs": [],
   "source": [
    "# HTML File Loader....\n",
    "\n",
    "from langchain_community.document_loaders import UnstructuredHTMLLoader\n",
    "loader = UnstructuredHTMLLoader(\"data/100-startups.html\")\n",
    "loaded_data = loader.load()\n",
    "#As it will take lot of time to fetch all the data of website... that's why I skip it to run"
   ]
  },
  {
   "cell_type": "code",
   "execution_count": 22,
   "metadata": {},
   "outputs": [],
   "source": [
    "# PDF Data Loader....\n",
    "\n",
    "from langchain_community.document_loaders import PyPDFLoader\n",
    "loader = PyPDFLoader(\"data/5pages.pdf\")\n",
    "loaded_pdf_data = loader.load_and_split()"
   ]
  },
  {
   "cell_type": "code",
   "execution_count": 23,
   "metadata": {},
   "outputs": [
    {
     "data": {
      "text/plain": [
       "[Document(metadata={'source': 'data/5pages.pdf', 'page': 0}, page_content='Page 1 of 4 PDF Files \\nScan – Create – Reduce File Size  \\n \\n \\nIt is recommended that you purchase an Adobe Acrobat product that \\nallows you to read, create and manipulate PDF documents.  Go to http://www.adobe.com/products/acrobat/matrix.html\\n to compare \\nAdobe products and features –Adobe  Acrobat Standard is sufficient. \\n \\n \\nScanning Documents \\n \\nYou should only have to scan docu ments that are not electronic, and \\nwhen you are unable to create a PDF using PDFMaker or the Print \\nCommand from the applicat ion you are using.   \\n \\nSignature Pages If you have a document such as a CV that requires a signature on a page only print the page that re quires the signature –printing the \\nentire document and scanning it is not\\n necessary or desired.  Once you \\nsign and scan the signature page you can combine it with the original \\ndocument using the Create PDF From Multiple Files feature. \\n Scanner Settings Before scanning documents rememb er to make certain that the \\nfollowing settings are activated on your scanner (settings may vary): \\x83 Document Mode \\n\\x83 Scan to smallest size \\n\\x83 Fast (lowest quality) \\n\\x83 Grayscale or black and white  \\n\\x83 Resolution: 300dpi or less'),\n",
       " Document(metadata={'source': 'data/5pages.pdf', 'page': 1}, page_content='Page 2 of 4 Creating PDF Documents \\n \\n \\nOption 1 – Use Adobe PDF Printer Command: \\nIn many authoring applications, yo u can use the Print command with \\nthe Adobe PDF printer to convert your file to PDF.   Create a PDF using the Print command (Windows) \\n1. Open the file in its authoring a pplication, and choose File > Print. \\n2. Choose Adobe PDF from the printer menu. \\n \\n \\n \\n3. Click the Properties (or Preferen ces) button to customize the Adobe \\nPDF printer setting. (In some app lications, you may need to click \\nSetup in the Print dialog box to open  the list of printers, and then click \\nProperties or Preferences.)  Choose Sm allest File Size as your default \\nsetting. \\n \\n \\n \\n4. In the Print dialog box, click OK and Save your file. \\n \\n \\n \\nCreate a PDF using the Print command (Mac OS) \\n1. Open the file in its authoring a pplication, and choose File > Print. \\n2. Click on the PDF button in the Print window. 3. Click Save as PDF.'),\n",
       " Document(metadata={'source': 'data/5pages.pdf', 'page': 2}, page_content='Page 3 of 4 Creating PDF Documents (continued) \\n \\nOption 2: If you do not have  Acrobat Standard or higher \\ninstalled use PS2PSF.*   \\n    \\n 1. Open the file in its authoring app lication, and choose File > Print. \\n2. Select “Print to File” and save. \\n3. Open your browser and go to http://ps2pdf.com/convert.htm\\n \\n4. Click “browse” select the file you created in step 2 (.prn or .ps), \\nclick “convert” \\n5. Download the newly created PDF file. \\n*Note: Some formatting changes ma y occur once converted (bullets \\nmay turn to symbols and color may become black and white).'),\n",
       " Document(metadata={'source': 'data/5pages.pdf', 'page': 3}, page_content='Page 4 of 4 Reducing File Size Options \\n \\n*WebDCU will accept files up to 2.0MB.* \\n Here is a rough estimate for PDF file sizes: If the contents are pure text, like a CV, the file size is usually 10kb per \\npage; therefore, a 1MB file will ha ve about 100 pages.  If the file \\nincludes some pictures, the file size may increase. If the file is a \\npicture, like a scanned license or ce rtification, you may have different \\nfile sizes based on the picture quality.  In most cases, saving the file at \\nabout 250kb per page should be enough to generate a clear picture.  Option 1 – Use Adobe PDF Print Command: 1. Open the PDF file, and choose File > Print. 2. Choose Adobe PDF from the printer menu next to Name. 3. Click the Properties (or Preferen ces) button to customize the Adobe \\nPDF printer setting. (In some app lications, you may need to click \\nSetup in the Print dialog box to open  the list of printers, and then click \\nProperties or Preferences.)  Choose Sm allest File Size as your default \\nsetting. 4. In the Print dialog box, click OK.   5. Save the new (smaller) PDF file. \\n \\n \\nOption 2 – Use Adobe PDF “Reduce File Size”: 1. Open the file in Adobe Acrobat and choose File > Reduce File Size...  2. For our purposes, please make th ese files \"compatible with\" version \\nAcrobat 5.0 or later. 3. Save the new (smaller) PDF file.')]"
      ]
     },
     "execution_count": 23,
     "metadata": {},
     "output_type": "execute_result"
    }
   ],
   "source": [
    "loaded_pdf_data"
   ]
  },
  {
   "cell_type": "code",
   "execution_count": 24,
   "metadata": {},
   "outputs": [
    {
     "data": {
      "text/plain": [
       "'Page 1 of 4 PDF Files \\nScan – Create – Reduce File Size  \\n \\n \\nIt is recommended that you purchase an Adobe Acrobat product that \\nallows you to read, create and manipulate PDF documents.  Go to http://www.adobe.com/products/acrobat/matrix.html\\n to compare \\nAdobe products and features –Adobe  Acrobat Standard is sufficient. \\n \\n \\nScanning Documents \\n \\nYou should only have to scan docu ments that are not electronic, and \\nwhen you are unable to create a PDF using PDFMaker or the Print \\nCommand from the applicat ion you are using.   \\n \\nSignature Pages If you have a document such as a CV that requires a signature on a page only print the page that re quires the signature –printing the \\nentire document and scanning it is not\\n necessary or desired.  Once you \\nsign and scan the signature page you can combine it with the original \\ndocument using the Create PDF From Multiple Files feature. \\n Scanner Settings Before scanning documents rememb er to make certain that the \\nfollowing settings are activated on your scanner (settings may vary): \\x83 Document Mode \\n\\x83 Scan to smallest size \\n\\x83 Fast (lowest quality) \\n\\x83 Grayscale or black and white  \\n\\x83 Resolution: 300dpi or less'"
      ]
     },
     "execution_count": 24,
     "metadata": {},
     "output_type": "execute_result"
    }
   ],
   "source": [
    "loaded_pdf_data[0].page_content"
   ]
  },
  {
   "cell_type": "code",
   "execution_count": 25,
   "metadata": {},
   "outputs": [],
   "source": [
    "# Wikipedia Data Loader....\n",
    "\n",
    "from langchain_community.document_loaders import WikipediaLoader\n",
    "loader = WikipediaLoader(query=\"Tesla\", load_max_docs=1)\n",
    "loaded_wikipedia_data = loader.load()[0].page_content"
   ]
  },
  {
   "cell_type": "code",
   "execution_count": 26,
   "metadata": {},
   "outputs": [
    {
     "data": {
      "text/plain": [
       "'Tesla, Inc. ( TESS-lə or  TEZ-lə) is an American multinational automotive and clean energy company. Headquartered in Austin, Texas, it designs, manufactures and sells battery electric vehicles (BEVs), stationary battery energy storage devices from home to grid-scale, solar panels and solar shingles, and related products and services.\\nTesla was founded in July 2003 by Martin Eberhard and Marc Tarpenning as Tesla Motors. Its name is a tribute to inventor and electrical engineer Nikola Tesla. In February 2004, Elon Musk joined as Tesla\\'s largest shareholder; in 2008, he was named chief executive officer. In 2008, the company began production of its first car model, the Roadster sports car, followed by the Model S sedan in 2012, the Model X SUV in 2015, the Model 3 sedan in 2017, the Model Y crossover in 2020, the Tesla Semi truck in 2022 and the Cybertruck pickup truck in 2023. In June 2021, the Model 3 became the first electric car to sell 1 million units globally. In 2023, the Model Y was the best-selling vehicle, of any kind, globally. In January 2024, the Model Y became the best-selling BEV in history.\\nTesla is one of the world\\'s most valuable companies in terms of market capitalization. Starting in July 2020, it has been the world\\'s most valuable automaker. In October 2021, Tesla temporarily became a trillion-dollar company, the seventh U.S. company to do so, and did so again in November 2024. In 2023, the company led the battery electric vehicle market, with 19.9% share. Also in 2023, the company was ranked 69th in the Forbes Global 2000. \\nTesla has been the subject of lawsuits, government scrutiny, and journalistic criticism, stemming from allegations of multiple cases of whistleblower retaliation, worker rights violations such as sexual harassment and anti-union activities, safety defects leading to dozens of recalls, the lack of a public relations department, and controversial statements from Musk including overpromising on the company\\'s driving assist technology and product release timelines.\\n\\n\\n== History ==\\n\\n\\n=== Founding (2003–2004) ===\\nThe company was incorporated as Tesla Motors, Inc. on July 1, 2003, by Martin Eberhard and Marc Tarpenning. They served as chief executive officer and chief financial officer, respectively. Eberhard said that he wanted to build \"a car manufacturer that is also a technology company\", with its core technologies as \"the battery, the computer software, and the proprietary motor\".\\nIan Wright was Tesla\\'s third employee, joined a few months later. In February 2004, the company raised US$7.5 million (equivalent to $12 million in 2023) in series A funding, including $6.5 million (equivalent to $10 million in 2023) from Elon Musk, who had received $100 million from the sale of his interest in PayPal two years earlier. Musk became the chairman of the board of directors and the largest shareholder of Tesla. J. B. Straubel joined Tesla in May 2004 as chief technical officer.\\nA lawsuit settlement agreed to by Eberhard and Tesla in September 2009 allows all five – Eberhard, Tarpenning, Wright, Musk, and Straubel – to call themselves co-founders.\\n\\n\\n=== Roadster (2005–2009) ===\\n\\nElon Musk took an active role within the company, but was not deeply involved in day-to-day business operations. The company\\'s strategy was to start with a premium sports car aimed at early adopters and then move into more mainstream vehicles, including sedans and affordable compacts.\\nIn February 2006, Musk led Tesla\\'s Series B venture capital funding round of $13 million, which added Valor Equity Partners to the funding team. Musk co-led the third, $40 million round in May 2006 which saw investment from prominent entrepreneurs including Google co-founders Sergey Brin and Larry Page, and former eBay President Jeff Skoll. A fourth round worth $45 million in May 2007 brought the total private financing investment to over $105 million.\\nIn August 2007, Eberhard was asked by the board, led by Elon Musk, to step down as CEO. Eberhard'"
      ]
     },
     "execution_count": 26,
     "metadata": {},
     "output_type": "execute_result"
    }
   ],
   "source": [
    "loaded_wikipedia_data"
   ]
  },
  {
   "cell_type": "code",
   "execution_count": 27,
   "metadata": {},
   "outputs": [],
   "source": [
    "from langchain_core.prompts import ChatPromptTemplate\n",
    "\n",
    "chat_template = ChatPromptTemplate.from_messages(\n",
    "    [\n",
    "        (\"human\", \"Answer this {question}, here is some extra {context}\"),\n",
    "    ]\n",
    ")\n",
    "\n",
    "messages = chat_template.format_messages(\n",
    "    name= \"Tesla\",\n",
    "    question= \"Tell me about Tesla in short.\",\n",
    "    context = loaded_wikipedia_data\n",
    ")"
   ]
  },
  {
   "cell_type": "code",
   "execution_count": 28,
   "metadata": {},
   "outputs": [],
   "source": [
    "response = llamaChatModel.invoke(messages)"
   ]
  },
  {
   "cell_type": "code",
   "execution_count": 29,
   "metadata": {},
   "outputs": [
    {
     "data": {
      "text/plain": [
       "\"Here's a brief overview of Tesla:\\n\\n**What:** Tesla is an American multinational automotive and clean energy company.\\n\\n**Founded:** July 2003 by Martin Eberhard and Marc Tarpenning.\\n\\n**Named after:** Nikola Tesla, an inventor and electrical engineer.\\n\\n**Headquarters:** Austin, Texas.\\n\\n**Products:**\\n\\n* Battery electric vehicles (BEVs): Roadster, Model S, Model X, Model 3, Model Y, Cybertruck, and Tesla Semi.\\n* Stationary battery energy storage devices.\\n* Solar panels and solar shingles.\\n\\n**Notable milestones:**\\n\\n* 2008: Elon Musk becomes CEO.\\n* 2012: Model S sedan launched.\\n* 2015: Model X SUV launched.\\n* 2017: Model 3 sedan launched.\\n* 2020: Model Y crossover launched.\\n* 2022: Tesla Semi truck launched.\\n* 2023: Cybertruck pickup truck launched.\\n* 2023: Model Y becomes best-selling vehicle globally.\\n* 2024: Model Y becomes best-selling BEV in history.\\n\\n**Achievements:**\\n\\n* World's most valuable automaker since 2020.\\n* First electric car to sell 1 million units globally (Model 3).\\n* Led the battery electric vehicle market with 19.9% share in 2023.\\n* Ranked 69th in the Forbes Global 2000 in 2023.\\n* Became a trillion-dollar company in 2021 and again in 2024.\""
      ]
     },
     "execution_count": 29,
     "metadata": {},
     "output_type": "execute_result"
    }
   ],
   "source": [
    "response.content"
   ]
  },
  {
   "cell_type": "markdown",
   "metadata": {},
   "source": [
    "## RAG: Retrieval-Augmented Generation\n",
    "\n",
    "##### Load large data assets and ask LLM questions about it.\n",
    "\n",
    "\n",
    "### What if the loaded data is too large? We will use RAG.\n",
    "\n",
    "##### When you load a document, you end up with strings. Sometimes the strings will be too large to fit into the context window. In those occasions, we will use the RAG Technique:\n",
    "\n",
    "###### 1. Split document into small chunks.\n",
    "\n",
    "###### 2. Transform the text chunks in numeric chunks(embeddings).\n",
    "\n",
    "###### 3. Load embeddings to a vector database (aka vector store).\n",
    "\n",
    "###### 4. Load questions and retrive the most relevant embeddings to respond it.\n",
    "\n",
    "###### 5. Sent the embeddings to the LLM to format the response properly.\n"
   ]
  },
  {
   "cell_type": "code",
   "execution_count": null,
   "metadata": {},
   "outputs": [],
   "source": []
  }
 ],
 "metadata": {
  "kernelspec": {
   "display_name": "llmapp",
   "language": "python",
   "name": "python3"
  },
  "language_info": {
   "codemirror_mode": {
    "name": "ipython",
    "version": 3
   },
   "file_extension": ".py",
   "mimetype": "text/x-python",
   "name": "python",
   "nbconvert_exporter": "python",
   "pygments_lexer": "ipython3",
   "version": "3.11.11"
  }
 },
 "nbformat": 4,
 "nbformat_minor": 2
}
