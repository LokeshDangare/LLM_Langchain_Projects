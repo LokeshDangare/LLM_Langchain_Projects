{
 "cells": [
  {
   "cell_type": "code",
   "execution_count": 1,
   "metadata": {},
   "outputs": [
    {
     "name": "stdout",
     "output_type": "stream",
     "text": [
      "OK\n"
     ]
    }
   ],
   "source": [
    "print('OK')"
   ]
  },
  {
   "cell_type": "markdown",
   "metadata": {},
   "source": [
    "#### Temperature is creative paramter, near 1 is geeting good output and near 0 is getting below level output"
   ]
  },
  {
   "cell_type": "code",
   "execution_count": 2,
   "metadata": {},
   "outputs": [],
   "source": [
    "import os \n",
    "from dotenv import load_dotenv, find_dotenv\n",
    "_ = load_dotenv(find_dotenv())"
   ]
  },
  {
   "cell_type": "code",
   "execution_count": 3,
   "metadata": {},
   "outputs": [],
   "source": [
    "from langchain_groq import ChatGroq\n",
    "llamaChatModel = ChatGroq(\n",
    "    model=\"llama3-70b-8192\"\n",
    ")"
   ]
  },
  {
   "cell_type": "code",
   "execution_count": 5,
   "metadata": {},
   "outputs": [],
   "source": [
    "# If you want to load mistral model\n",
    "\n",
    "mistralChatModel = ChatGroq(\n",
    "    model=\"mixtral-8x7b-32768\"\n",
    ")"
   ]
  },
  {
   "cell_type": "code",
   "execution_count": 6,
   "metadata": {},
   "outputs": [],
   "source": [
    "messages = [\n",
    "    (\"system\", \"You are an historian expert in the kennedy family.\"),\n",
    "    (\"human\", \"How many members of the family died tragically?\"),\n",
    "]"
   ]
  },
  {
   "cell_type": "code",
   "execution_count": 7,
   "metadata": {},
   "outputs": [],
   "source": [
    "llamaResponse = llamaChatModel.invoke(messages)"
   ]
  },
  {
   "cell_type": "code",
   "execution_count": 9,
   "metadata": {},
   "outputs": [
    {
     "name": "stdout",
     "output_type": "stream",
     "text": [
      "The Kennedy family has indeed been plagued by a series of tragic events and untimely deaths. Here's a list of some of the most notable ones:\n",
      "\n",
      "1. Joseph P. Kennedy Jr. (1915-1944): The eldest son of Joseph P. Kennedy Sr. and Rose Kennedy, Joseph Jr. was a naval aviator who died in a plane explosion during a secret mission in World War II.\n",
      "\n",
      "2. Kathleen Kennedy Cavendish (1920-1948): The fourth child and second daughter of Joseph P. Kennedy Sr. and Rose Kennedy, Kathleen died in a plane crash in France at the age of 28.\n",
      "\n",
      "3. John F. Kennedy (1917-1963): The 35th President of the United States, John F. Kennedy was assassinated in Dallas, Texas, on November 22, 1963.\n",
      "\n",
      "4. Patrick Bouvier Kennedy (1963-1963): The infant son of John F. Kennedy and Jacqueline Kennedy, Patrick died two days after birth due to a rare genetic disorder.\n",
      "\n",
      "5. Robert F. Kennedy (1925-1968): The U.S. Attorney General and Senator from New York, Robert was assassinated in Los Angeles during his presidential campaign on June 5, 1968.\n",
      "\n",
      "6. David Kennedy (1955-1984): The son of Robert F. Kennedy, David died of a drug overdose in a Florida hotel room at the age of 28.\n",
      "\n",
      "7. Michael LeMoyne Kennedy (1958-1997): Another son of Robert F. Kennedy, Michael died in a skiing accident in Aspen, Colorado, on New Year's Eve 1997.\n",
      "\n",
      "8. John F. Kennedy Jr. (1960-1999): The son of John F. Kennedy and Jacqueline Kennedy, John died in a plane crash off the coast of Massachusetts on July 18, 1999, along with his wife Carolyn Bessette Kennedy and her sister Lauren Bessette.\n",
      "\n",
      "9. Kara Kennedy (1960-2011): The daughter of Edward M. Kennedy, Kara died of a heart attack at the age of 51 while exercising at a health club.\n",
      "\n",
      "These tragedies have led to the notion of a \"Kennedy curse,\" although it's essential to note that many of these events were the result of a combination of circumstances, accidents, and intentional acts rather than any supernatural force.\n"
     ]
    }
   ],
   "source": [
    "print(llamaResponse.content)"
   ]
  },
  {
   "cell_type": "code",
   "execution_count": 10,
   "metadata": {},
   "outputs": [],
   "source": [
    "mistralResponse = mistralChatModel.invoke(messages)"
   ]
  },
  {
   "cell_type": "code",
   "execution_count": 11,
   "metadata": {},
   "outputs": [
    {
     "name": "stdout",
     "output_type": "stream",
     "text": [
      "As an assistant, I can provide you with the following information about the Kennedy family and their tragic losses:\n",
      "\n",
      "1. Joseph P. Kennedy Sr. (1888-1969): The patriarch of the Kennedy family, Joseph Kennedy Sr. lost his second child, Kathleen Kennedy (1920-1948), in a plane crash in France.\n",
      "\n",
      "2. John F. Kennedy (1917-1963): The 35th President of the United States, John F. Kennedy, was assassinated on November 22, 1963, in Dallas, Texas.\n",
      "\n",
      "3. Robert F. Kennedy (1925-1968): The Attorney General during his brother John's presidency and a U.S. Senator from New York, Robert F. Kennedy was assassinated on June 6, 1968, in Los Angeles, California.\n",
      "\n",
      "4. Joseph P. Kennedy Jr. (1915-1944): The eldest son of Joseph Kennedy Sr., Joseph P. Kennedy Jr., died in a plane explosion during World War II on August 12, 1944.\n",
      "\n",
      "5. Kathleen Kennedy (1920-1948): The youngest daughter of Joseph Kennedy Sr., Kathleen Kennedy, died in a plane crash in France on May 13, 1948.\n",
      "\n",
      "6. John F. Kennedy Jr. (1960-1999): The only son of President John F. Kennedy and Jacqueline Kennedy Onassis, John F. Kennedy Jr., died in a plane crash on July 16, 1999. His wife, Carolyn Bessette Kennedy (1966-1999), and her sister, Lauren Bessette (1964-1999), also died in the crash.\n",
      "\n",
      "7. Edward M. Kennedy (1932-2009): The youngest brother of President John F. Kennedy and Senator Robert F. Kennedy, Edward M. Kennedy, did not die tragically but was involved in a plane crash in 1964 that left him with a severe back injury.\n",
      "\n",
      "In summary, six members of the Kennedy family have died tragically.\n"
     ]
    }
   ],
   "source": [
    "print(mistralResponse.content)"
   ]
  },
  {
   "cell_type": "code",
   "execution_count": null,
   "metadata": {},
   "outputs": [],
   "source": []
  }
 ],
 "metadata": {
  "kernelspec": {
   "display_name": "llmapp",
   "language": "python",
   "name": "python3"
  },
  "language_info": {
   "codemirror_mode": {
    "name": "ipython",
    "version": 3
   },
   "file_extension": ".py",
   "mimetype": "text/x-python",
   "name": "python",
   "nbconvert_exporter": "python",
   "pygments_lexer": "ipython3",
   "version": "3.11.11"
  }
 },
 "nbformat": 4,
 "nbformat_minor": 2
}
