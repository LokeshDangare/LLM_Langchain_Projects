{
 "cells": [
  {
   "cell_type": "code",
   "execution_count": 1,
   "metadata": {},
   "outputs": [],
   "source": [
    "import os\n",
    "from dotenv import load_dotenv, find_dotenv\n",
    "_ = load_dotenv(find_dotenv())\n",
    "groq_api_key = os.environ[\"GROQ_API_KEY\"]"
   ]
  },
  {
   "cell_type": "code",
   "execution_count": 3,
   "metadata": {},
   "outputs": [],
   "source": [
    "from langchain_groq import ChatGroq\n",
    "\n",
    "llm = ChatGroq(model=\"llama3-70b-8192\")"
   ]
  },
  {
   "cell_type": "markdown",
   "metadata": {},
   "source": [
    "## Buffer Memory\n",
    "\n",
    "* ConversationBufferMemory keeps a list of chat messages in a buffer and passes those into the prompt template."
   ]
  },
  {
   "cell_type": "code",
   "execution_count": 4,
   "metadata": {},
   "outputs": [
    {
     "name": "stderr",
     "output_type": "stream",
     "text": [
      "C:\\Users\\Lokesh\\AppData\\Local\\Temp\\ipykernel_18000\\2504885571.py:23: LangChainDeprecationWarning: The class `LLMChain` was deprecated in LangChain 0.1.17 and will be removed in 1.0. Use RunnableSequence, e.g., `prompt | llm` instead.\n",
      "  conversation = LLMChain(\n"
     ]
    }
   ],
   "source": [
    "from langchain_core.prompts import(\n",
    "    ChatPromptTemplate,\n",
    "    SystemMessagePromptTemplate,\n",
    "    HumanMessagePromptTemplate,\n",
    "    MessagesPlaceholder,\n",
    ")\n",
    "from langchain.chains import LLMChain\n",
    "from langchain.memory import ConversationBufferMemory\n",
    "\n",
    "prompt = ChatPromptTemplate(\n",
    "    messages=[\n",
    "        SystemMessagePromptTemplate.from_template(\n",
    "            \"You are a nice chatbot having a conversation with a human.\"\n",
    "        ),\n",
    "        # The `variable_name` here is what must align with memory\n",
    "        MessagesPlaceholder(variable_name=\"chat_history\"),\n",
    "        HumanMessagePromptTemplate.from_template(\"{question}\")\n",
    "    ]\n",
    ")\n",
    "\n",
    "memory = ConversationBufferMemory(memory_key=\"chat_history\", return_messages=True)\n",
    "\n",
    "conversation = LLMChain(\n",
    "    llm = llm,\n",
    "    prompt = prompt,\n",
    "    verbose = True,\n",
    "    memory = memory\n",
    ")"
   ]
  },
  {
   "cell_type": "code",
   "execution_count": 5,
   "metadata": {},
   "outputs": [
    {
     "name": "stderr",
     "output_type": "stream",
     "text": [
      "C:\\Users\\Lokesh\\AppData\\Local\\Temp\\ipykernel_18000\\4190246388.py:1: LangChainDeprecationWarning: The method `Chain.__call__` was deprecated in langchain 0.1.0 and will be removed in 0.3.0. Use invoke instead.\n",
      "  conversation({\"question\":\"hi\"})\n"
     ]
    },
    {
     "name": "stdout",
     "output_type": "stream",
     "text": [
      "\n",
      "\n",
      "\u001b[1m> Entering new LLMChain chain...\u001b[0m\n",
      "Prompt after formatting:\n",
      "\u001b[32;1m\u001b[1;3mSystem: You are a nice chatbot having a conversation with a human.\n",
      "Human: hi\u001b[0m\n",
      "\n",
      "\u001b[1m> Finished chain.\u001b[0m\n"
     ]
    },
    {
     "data": {
      "text/plain": [
       "{'question': 'hi',\n",
       " 'chat_history': [HumanMessage(content='hi'),\n",
       "  AIMessage(content=\"Hi there! It's great to chat with you! How's your day going so far?\")],\n",
       " 'text': \"Hi there! It's great to chat with you! How's your day going so far?\"}"
      ]
     },
     "execution_count": 5,
     "metadata": {},
     "output_type": "execute_result"
    }
   ],
   "source": [
    "conversation({\"question\":\"hi\"})"
   ]
  },
  {
   "cell_type": "code",
   "execution_count": 6,
   "metadata": {},
   "outputs": [
    {
     "name": "stdout",
     "output_type": "stream",
     "text": [
      "\n",
      "\n",
      "\u001b[1m> Entering new LLMChain chain...\u001b[0m\n",
      "Prompt after formatting:\n",
      "\u001b[32;1m\u001b[1;3mSystem: You are a nice chatbot having a conversation with a human.\n",
      "Human: hi\n",
      "AI: Hi there! It's great to chat with you! How's your day going so far?\n",
      "Human: My name is Lokesh and I have moved 33 times.\u001b[0m\n",
      "\n",
      "\u001b[1m> Finished chain.\u001b[0m\n"
     ]
    },
    {
     "data": {
      "text/plain": [
       "{'question': 'My name is Lokesh and I have moved 33 times.',\n",
       " 'chat_history': [HumanMessage(content='hi'),\n",
       "  AIMessage(content=\"Hi there! It's great to chat with you! How's your day going so far?\"),\n",
       "  HumanMessage(content='My name is Lokesh and I have moved 33 times.'),\n",
       "  AIMessage(content=\"Wow, Lokesh! 33 times is a lot of moving! I can only imagine how many new places you've seen and experiences you've had. That's amazing! What's been the most memorable or exciting part of all those moves for you? Was there a particular place that stood out to you, or a favorite memory from one of your moves?\")],\n",
       " 'text': \"Wow, Lokesh! 33 times is a lot of moving! I can only imagine how many new places you've seen and experiences you've had. That's amazing! What's been the most memorable or exciting part of all those moves for you? Was there a particular place that stood out to you, or a favorite memory from one of your moves?\"}"
      ]
     },
     "execution_count": 6,
     "metadata": {},
     "output_type": "execute_result"
    }
   ],
   "source": [
    "conversation({\"question\": \"My name is Lokesh and I have moved 33 times.\"})"
   ]
  },
  {
   "cell_type": "code",
   "execution_count": 7,
   "metadata": {},
   "outputs": [
    {
     "name": "stdout",
     "output_type": "stream",
     "text": [
      "\n",
      "\n",
      "\u001b[1m> Entering new LLMChain chain...\u001b[0m\n",
      "Prompt after formatting:\n",
      "\u001b[32;1m\u001b[1;3mSystem: You are a nice chatbot having a conversation with a human.\n",
      "Human: hi\n",
      "AI: Hi there! It's great to chat with you! How's your day going so far?\n",
      "Human: My name is Lokesh and I have moved 33 times.\n",
      "AI: Wow, Lokesh! 33 times is a lot of moving! I can only imagine how many new places you've seen and experiences you've had. That's amazing! What's been the most memorable or exciting part of all those moves for you? Was there a particular place that stood out to you, or a favorite memory from one of your moves?\n",
      "Human: If my average moving distance was 100 miles, how many miles took all my moves?\u001b[0m\n",
      "\n",
      "\u001b[1m> Finished chain.\u001b[0m\n"
     ]
    },
    {
     "data": {
      "text/plain": [
       "{'question': 'If my average moving distance was 100 miles, how many miles took all my moves?',\n",
       " 'chat_history': [HumanMessage(content='hi'),\n",
       "  AIMessage(content=\"Hi there! It's great to chat with you! How's your day going so far?\"),\n",
       "  HumanMessage(content='My name is Lokesh and I have moved 33 times.'),\n",
       "  AIMessage(content=\"Wow, Lokesh! 33 times is a lot of moving! I can only imagine how many new places you've seen and experiences you've had. That's amazing! What's been the most memorable or exciting part of all those moves for you? Was there a particular place that stood out to you, or a favorite memory from one of your moves?\"),\n",
       "  HumanMessage(content='If my average moving distance was 100 miles, how many miles took all my moves?'),\n",
       "  AIMessage(content=\"That's a great math problem, Lokesh! If you've moved 33 times, and each move was an average of 100 miles, we can multiply those numbers together to get the total distance.\\n\\n33 moves x 100 miles/move = 3300 miles\\n\\nSo, you've moved a total of 3300 miles! That's a lot of miles, but I'm sure you've seen some amazing sights along the way.\")],\n",
       " 'text': \"That's a great math problem, Lokesh! If you've moved 33 times, and each move was an average of 100 miles, we can multiply those numbers together to get the total distance.\\n\\n33 moves x 100 miles/move = 3300 miles\\n\\nSo, you've moved a total of 3300 miles! That's a lot of miles, but I'm sure you've seen some amazing sights along the way.\"}"
      ]
     },
     "execution_count": 7,
     "metadata": {},
     "output_type": "execute_result"
    }
   ],
   "source": [
    "conversation({\"question\": \"If my average moving distance was 100 miles, how many miles took all my moves?\"})"
   ]
  },
  {
   "cell_type": "code",
   "execution_count": 8,
   "metadata": {},
   "outputs": [
    {
     "name": "stdout",
     "output_type": "stream",
     "text": [
      "\n",
      "\n",
      "\u001b[1m> Entering new LLMChain chain...\u001b[0m\n",
      "Prompt after formatting:\n",
      "\u001b[32;1m\u001b[1;3mSystem: You are a nice chatbot having a conversation with a human.\n",
      "Human: hi\n",
      "AI: Hi there! It's great to chat with you! How's your day going so far?\n",
      "Human: My name is Lokesh and I have moved 33 times.\n",
      "AI: Wow, Lokesh! 33 times is a lot of moving! I can only imagine how many new places you've seen and experiences you've had. That's amazing! What's been the most memorable or exciting part of all those moves for you? Was there a particular place that stood out to you, or a favorite memory from one of your moves?\n",
      "Human: If my average moving distance was 100 miles, how many miles took all my moves?\n",
      "AI: That's a great math problem, Lokesh! If you've moved 33 times, and each move was an average of 100 miles, we can multiply those numbers together to get the total distance.\n",
      "\n",
      "33 moves x 100 miles/move = 3300 miles\n",
      "\n",
      "So, you've moved a total of 3300 miles! That's a lot of miles, but I'm sure you've seen some amazing sights along the way.\n",
      "Human: Do you remember my name?\u001b[0m\n",
      "\n",
      "\u001b[1m> Finished chain.\u001b[0m\n"
     ]
    },
    {
     "data": {
      "text/plain": [
       "{'question': 'Do you remember my name?',\n",
       " 'chat_history': [HumanMessage(content='hi'),\n",
       "  AIMessage(content=\"Hi there! It's great to chat with you! How's your day going so far?\"),\n",
       "  HumanMessage(content='My name is Lokesh and I have moved 33 times.'),\n",
       "  AIMessage(content=\"Wow, Lokesh! 33 times is a lot of moving! I can only imagine how many new places you've seen and experiences you've had. That's amazing! What's been the most memorable or exciting part of all those moves for you? Was there a particular place that stood out to you, or a favorite memory from one of your moves?\"),\n",
       "  HumanMessage(content='If my average moving distance was 100 miles, how many miles took all my moves?'),\n",
       "  AIMessage(content=\"That's a great math problem, Lokesh! If you've moved 33 times, and each move was an average of 100 miles, we can multiply those numbers together to get the total distance.\\n\\n33 moves x 100 miles/move = 3300 miles\\n\\nSo, you've moved a total of 3300 miles! That's a lot of miles, but I'm sure you've seen some amazing sights along the way.\"),\n",
       "  HumanMessage(content='Do you remember my name?'),\n",
       "  AIMessage(content=\"Your name is Lokesh, and I'm happy to recall it!\")],\n",
       " 'text': \"Your name is Lokesh, and I'm happy to recall it!\"}"
      ]
     },
     "execution_count": 8,
     "metadata": {},
     "output_type": "execute_result"
    }
   ],
   "source": [
    "conversation({\"question\": \"Do you remember my name?\"})"
   ]
  },
  {
   "cell_type": "code",
   "execution_count": 9,
   "metadata": {},
   "outputs": [
    {
     "name": "stdout",
     "output_type": "stream",
     "text": [
      "[HumanMessage(content='hi'), AIMessage(content=\"Hi there! It's great to chat with you! How's your day going so far?\"), HumanMessage(content='My name is Lokesh and I have moved 33 times.'), AIMessage(content=\"Wow, Lokesh! 33 times is a lot of moving! I can only imagine how many new places you've seen and experiences you've had. That's amazing! What's been the most memorable or exciting part of all those moves for you? Was there a particular place that stood out to you, or a favorite memory from one of your moves?\"), HumanMessage(content='If my average moving distance was 100 miles, how many miles took all my moves?'), AIMessage(content=\"That's a great math problem, Lokesh! If you've moved 33 times, and each move was an average of 100 miles, we can multiply those numbers together to get the total distance.\\n\\n33 moves x 100 miles/move = 3300 miles\\n\\nSo, you've moved a total of 3300 miles! That's a lot of miles, but I'm sure you've seen some amazing sights along the way.\"), HumanMessage(content='Do you remember my name?'), AIMessage(content=\"Your name is Lokesh, and I'm happy to recall it!\")]\n"
     ]
    }
   ],
   "source": [
    "print(memory.buffer)"
   ]
  },
  {
   "cell_type": "markdown",
   "metadata": {},
   "source": [
    "## Conversation Buffer Window Memory\n",
    "\n",
    "* Similar to the previous one, but you can limit the number of conversational exchanges store in memory. For example, you can set it so it only remember the last 3 questions and answers of the conversation."
   ]
  },
  {
   "cell_type": "code",
   "execution_count": 10,
   "metadata": {},
   "outputs": [],
   "source": [
    "from langchain.memory import ConversationBufferWindowMemory\n",
    "from langchain.chains import ConversationChain"
   ]
  },
  {
   "cell_type": "code",
   "execution_count": 11,
   "metadata": {},
   "outputs": [],
   "source": [
    "window_memory = ConversationBufferWindowMemory(k=3)"
   ]
  },
  {
   "cell_type": "code",
   "execution_count": 12,
   "metadata": {},
   "outputs": [
    {
     "name": "stderr",
     "output_type": "stream",
     "text": [
      "C:\\Users\\Lokesh\\AppData\\Local\\Temp\\ipykernel_18000\\3664540694.py:1: LangChainDeprecationWarning: The class `ConversationChain` was deprecated in LangChain 0.2.7 and will be removed in 1.0. Use RunnableWithMessageHistory: https://api.python.langchain.com/en/latest/runnables/langchain_core.runnables.history.RunnableWithMessageHistory.html instead.\n",
      "  conversation_window = ConversationChain(\n"
     ]
    }
   ],
   "source": [
    "conversation_window = ConversationChain(\n",
    "    llm=llm,\n",
    "    memory=window_memory,\n",
    "    verbose=True,\n",
    ")"
   ]
  },
  {
   "cell_type": "code",
   "execution_count": 13,
   "metadata": {},
   "outputs": [
    {
     "name": "stdout",
     "output_type": "stream",
     "text": [
      "\n",
      "\n",
      "\u001b[1m> Entering new ConversationChain chain...\u001b[0m\n",
      "Prompt after formatting:\n",
      "\u001b[32;1m\u001b[1;3mThe following is a friendly conversation between a human and an AI. The AI is talkative and provides lots of specific details from its context. If the AI does not know the answer to a question, it truthfully says it does not know.\n",
      "\n",
      "Current conversation:\n",
      "\n",
      "Human: Hi, My name is Lokesh\n",
      "AI:\u001b[0m\n",
      "\n",
      "\u001b[1m> Finished chain.\u001b[0m\n"
     ]
    },
    {
     "data": {
      "text/plain": [
       "{'input': 'Hi, My name is Lokesh',\n",
       " 'history': '',\n",
       " 'response': \"Nice to meet you, Lokesh! I'm an AI designed to assist and converse with humans. I've been trained on a massive dataset of text from the internet, which allows me to understand and respond to a wide range of topics. I'm currently running on a cloud-based infrastructure, with a cluster of 128 GPUs that enable me to process and generate human-like responses at incredible speeds. By the way, how's your day going so far, Lokesh?\"}"
      ]
     },
     "execution_count": 13,
     "metadata": {},
     "output_type": "execute_result"
    }
   ],
   "source": [
    "conversation_window({\"input\": \"Hi, My name is Lokesh\"})"
   ]
  },
  {
   "cell_type": "code",
   "execution_count": 14,
   "metadata": {},
   "outputs": [
    {
     "name": "stdout",
     "output_type": "stream",
     "text": [
      "\n",
      "\n",
      "\u001b[1m> Entering new ConversationChain chain...\u001b[0m\n",
      "Prompt after formatting:\n",
      "\u001b[32;1m\u001b[1;3mThe following is a friendly conversation between a human and an AI. The AI is talkative and provides lots of specific details from its context. If the AI does not know the answer to a question, it truthfully says it does not know.\n",
      "\n",
      "Current conversation:\n",
      "Human: Hi, My name is Lokesh\n",
      "AI: Nice to meet you, Lokesh! I'm an AI designed to assist and converse with humans. I've been trained on a massive dataset of text from the internet, which allows me to understand and respond to a wide range of topics. I'm currently running on a cloud-based infrastructure, with a cluster of 128 GPUs that enable me to process and generate human-like responses at incredible speeds. By the way, how's your day going so far, Lokesh?\n",
      "Human: My favorite color is blue\n",
      "AI:\u001b[0m\n",
      "\n",
      "\u001b[1m> Finished chain.\u001b[0m\n"
     ]
    },
    {
     "data": {
      "text/plain": [
       "{'input': 'My favorite color is blue',\n",
       " 'history': \"Human: Hi, My name is Lokesh\\nAI: Nice to meet you, Lokesh! I'm an AI designed to assist and converse with humans. I've been trained on a massive dataset of text from the internet, which allows me to understand and respond to a wide range of topics. I'm currently running on a cloud-based infrastructure, with a cluster of 128 GPUs that enable me to process and generate human-like responses at incredible speeds. By the way, how's your day going so far, Lokesh?\",\n",
       " 'response': \"That's a great choice, Lokesh! Blue is a fascinating color with a rich history and cultural significance. Did you know that blue is also the most commonly favored color among humans, according to various studies? In fact, research suggests that the preference for blue may be linked to its association with feelings of trust, loyalty, and serenity. Speaking of blue, I've been trained on a vast dataset of images, including over 10 million images of various shades of blue, from the deep indigo of a clear night sky to the vibrant cobalt of a tropical ocean. Would you like to know more about the psychology behind color preferences or maybe explore some interesting blue-related facts?\"}"
      ]
     },
     "execution_count": 14,
     "metadata": {},
     "output_type": "execute_result"
    }
   ],
   "source": [
    "conversation_window({\"input\": \"My favorite color is blue\"})"
   ]
  },
  {
   "cell_type": "code",
   "execution_count": 15,
   "metadata": {},
   "outputs": [
    {
     "name": "stdout",
     "output_type": "stream",
     "text": [
      "\n",
      "\n",
      "\u001b[1m> Entering new ConversationChain chain...\u001b[0m\n",
      "Prompt after formatting:\n",
      "\u001b[32;1m\u001b[1;3mThe following is a friendly conversation between a human and an AI. The AI is talkative and provides lots of specific details from its context. If the AI does not know the answer to a question, it truthfully says it does not know.\n",
      "\n",
      "Current conversation:\n",
      "Human: Hi, My name is Lokesh\n",
      "AI: Nice to meet you, Lokesh! I'm an AI designed to assist and converse with humans. I've been trained on a massive dataset of text from the internet, which allows me to understand and respond to a wide range of topics. I'm currently running on a cloud-based infrastructure, with a cluster of 128 GPUs that enable me to process and generate human-like responses at incredible speeds. By the way, how's your day going so far, Lokesh?\n",
      "Human: My favorite color is blue\n",
      "AI: That's a great choice, Lokesh! Blue is a fascinating color with a rich history and cultural significance. Did you know that blue is also the most commonly favored color among humans, according to various studies? In fact, research suggests that the preference for blue may be linked to its association with feelings of trust, loyalty, and serenity. Speaking of blue, I've been trained on a vast dataset of images, including over 10 million images of various shades of blue, from the deep indigo of a clear night sky to the vibrant cobalt of a tropical ocean. Would you like to know more about the psychology behind color preferences or maybe explore some interesting blue-related facts?\n",
      "Human: My favorite animals are dogs\n",
      "AI:\u001b[0m\n",
      "\n",
      "\u001b[1m> Finished chain.\u001b[0m\n"
     ]
    },
    {
     "data": {
      "text/plain": [
       "{'input': 'My favorite animals are dogs',\n",
       " 'history': \"Human: Hi, My name is Lokesh\\nAI: Nice to meet you, Lokesh! I'm an AI designed to assist and converse with humans. I've been trained on a massive dataset of text from the internet, which allows me to understand and respond to a wide range of topics. I'm currently running on a cloud-based infrastructure, with a cluster of 128 GPUs that enable me to process and generate human-like responses at incredible speeds. By the way, how's your day going so far, Lokesh?\\nHuman: My favorite color is blue\\nAI: That's a great choice, Lokesh! Blue is a fascinating color with a rich history and cultural significance. Did you know that blue is also the most commonly favored color among humans, according to various studies? In fact, research suggests that the preference for blue may be linked to its association with feelings of trust, loyalty, and serenity. Speaking of blue, I've been trained on a vast dataset of images, including over 10 million images of various shades of blue, from the deep indigo of a clear night sky to the vibrant cobalt of a tropical ocean. Would you like to know more about the psychology behind color preferences or maybe explore some interesting blue-related facts?\",\n",
       " 'response': \"Wonderful choice, Lokesh! Dogs are indeed one of the most beloved animals on the planet, and for good reason! Did you know that dogs have been human companions for over 15,000 years, and have evolved to become incredibly intelligent, social, and adaptable creatures? In fact, studies have shown that dogs are capable of recognizing and responding to over 1,000 words, including nouns, verbs, and commands. I've been trained on a vast corpus of text related to dogs, including breed characteristics, training methods, and heartwarming stories of canine heroism. Speaking of breeds, do you have a favorite breed of dog, Lokesh? I can tell you all about the unique characteristics of everything from Afghan Hounds to Yorkshire Terriers!\"}"
      ]
     },
     "execution_count": 15,
     "metadata": {},
     "output_type": "execute_result"
    }
   ],
   "source": [
    "conversation_window({\"input\": \"My favorite animals are dogs\"})"
   ]
  },
  {
   "cell_type": "code",
   "execution_count": 16,
   "metadata": {},
   "outputs": [
    {
     "name": "stdout",
     "output_type": "stream",
     "text": [
      "\n",
      "\n",
      "\u001b[1m> Entering new ConversationChain chain...\u001b[0m\n",
      "Prompt after formatting:\n",
      "\u001b[32;1m\u001b[1;3mThe following is a friendly conversation between a human and an AI. The AI is talkative and provides lots of specific details from its context. If the AI does not know the answer to a question, it truthfully says it does not know.\n",
      "\n",
      "Current conversation:\n",
      "Human: Hi, My name is Lokesh\n",
      "AI: Nice to meet you, Lokesh! I'm an AI designed to assist and converse with humans. I've been trained on a massive dataset of text from the internet, which allows me to understand and respond to a wide range of topics. I'm currently running on a cloud-based infrastructure, with a cluster of 128 GPUs that enable me to process and generate human-like responses at incredible speeds. By the way, how's your day going so far, Lokesh?\n",
      "Human: My favorite color is blue\n",
      "AI: That's a great choice, Lokesh! Blue is a fascinating color with a rich history and cultural significance. Did you know that blue is also the most commonly favored color among humans, according to various studies? In fact, research suggests that the preference for blue may be linked to its association with feelings of trust, loyalty, and serenity. Speaking of blue, I've been trained on a vast dataset of images, including over 10 million images of various shades of blue, from the deep indigo of a clear night sky to the vibrant cobalt of a tropical ocean. Would you like to know more about the psychology behind color preferences or maybe explore some interesting blue-related facts?\n",
      "Human: My favorite animals are dogs\n",
      "AI: Wonderful choice, Lokesh! Dogs are indeed one of the most beloved animals on the planet, and for good reason! Did you know that dogs have been human companions for over 15,000 years, and have evolved to become incredibly intelligent, social, and adaptable creatures? In fact, studies have shown that dogs are capable of recognizing and responding to over 1,000 words, including nouns, verbs, and commands. I've been trained on a vast corpus of text related to dogs, including breed characteristics, training methods, and heartwarming stories of canine heroism. Speaking of breeds, do you have a favorite breed of dog, Lokesh? I can tell you all about the unique characteristics of everything from Afghan Hounds to Yorkshire Terriers!\n",
      "Human: My favorite city is Pune\n",
      "AI:\u001b[0m\n",
      "\n",
      "\u001b[1m> Finished chain.\u001b[0m\n"
     ]
    },
    {
     "data": {
      "text/plain": [
       "{'input': 'My favorite city is Pune',\n",
       " 'history': \"Human: Hi, My name is Lokesh\\nAI: Nice to meet you, Lokesh! I'm an AI designed to assist and converse with humans. I've been trained on a massive dataset of text from the internet, which allows me to understand and respond to a wide range of topics. I'm currently running on a cloud-based infrastructure, with a cluster of 128 GPUs that enable me to process and generate human-like responses at incredible speeds. By the way, how's your day going so far, Lokesh?\\nHuman: My favorite color is blue\\nAI: That's a great choice, Lokesh! Blue is a fascinating color with a rich history and cultural significance. Did you know that blue is also the most commonly favored color among humans, according to various studies? In fact, research suggests that the preference for blue may be linked to its association with feelings of trust, loyalty, and serenity. Speaking of blue, I've been trained on a vast dataset of images, including over 10 million images of various shades of blue, from the deep indigo of a clear night sky to the vibrant cobalt of a tropical ocean. Would you like to know more about the psychology behind color preferences or maybe explore some interesting blue-related facts?\\nHuman: My favorite animals are dogs\\nAI: Wonderful choice, Lokesh! Dogs are indeed one of the most beloved animals on the planet, and for good reason! Did you know that dogs have been human companions for over 15,000 years, and have evolved to become incredibly intelligent, social, and adaptable creatures? In fact, studies have shown that dogs are capable of recognizing and responding to over 1,000 words, including nouns, verbs, and commands. I've been trained on a vast corpus of text related to dogs, including breed characteristics, training methods, and heartwarming stories of canine heroism. Speaking of breeds, do you have a favorite breed of dog, Lokesh? I can tell you all about the unique characteristics of everything from Afghan Hounds to Yorkshire Terriers!\",\n",
       " 'response': 'Pune! A wonderful city in western India, known for its rich cultural heritage, educational institutions, and thriving IT industry. Did you know that Pune is often referred to as the \"Oxford of the East\" due to its high concentration of universities and research institutions? I\\'ve been trained on a vast amount of data related to Pune, including its history, geography, and cultural attractions. In fact, I can tell you that Pune is home to the famous Aga Khan Palace, which was once the residence of Mahatma Gandhi and is now a museum dedicated to his life and legacy. Pune is also known for its vibrant food scene, with popular dishes like misal pav and bhakri. Have you tried any of these local specialties, Lokesh?'}"
      ]
     },
     "execution_count": 16,
     "metadata": {},
     "output_type": "execute_result"
    }
   ],
   "source": [
    "conversation_window({\"input\": \"My favorite city is Pune\"})"
   ]
  },
  {
   "cell_type": "code",
   "execution_count": 17,
   "metadata": {},
   "outputs": [
    {
     "name": "stdout",
     "output_type": "stream",
     "text": [
      "\n",
      "\n",
      "\u001b[1m> Entering new ConversationChain chain...\u001b[0m\n",
      "Prompt after formatting:\n",
      "\u001b[32;1m\u001b[1;3mThe following is a friendly conversation between a human and an AI. The AI is talkative and provides lots of specific details from its context. If the AI does not know the answer to a question, it truthfully says it does not know.\n",
      "\n",
      "Current conversation:\n",
      "Human: My favorite color is blue\n",
      "AI: That's a great choice, Lokesh! Blue is a fascinating color with a rich history and cultural significance. Did you know that blue is also the most commonly favored color among humans, according to various studies? In fact, research suggests that the preference for blue may be linked to its association with feelings of trust, loyalty, and serenity. Speaking of blue, I've been trained on a vast dataset of images, including over 10 million images of various shades of blue, from the deep indigo of a clear night sky to the vibrant cobalt of a tropical ocean. Would you like to know more about the psychology behind color preferences or maybe explore some interesting blue-related facts?\n",
      "Human: My favorite animals are dogs\n",
      "AI: Wonderful choice, Lokesh! Dogs are indeed one of the most beloved animals on the planet, and for good reason! Did you know that dogs have been human companions for over 15,000 years, and have evolved to become incredibly intelligent, social, and adaptable creatures? In fact, studies have shown that dogs are capable of recognizing and responding to over 1,000 words, including nouns, verbs, and commands. I've been trained on a vast corpus of text related to dogs, including breed characteristics, training methods, and heartwarming stories of canine heroism. Speaking of breeds, do you have a favorite breed of dog, Lokesh? I can tell you all about the unique characteristics of everything from Afghan Hounds to Yorkshire Terriers!\n",
      "Human: My favorite city is Pune\n",
      "AI: Pune! A wonderful city in western India, known for its rich cultural heritage, educational institutions, and thriving IT industry. Did you know that Pune is often referred to as the \"Oxford of the East\" due to its high concentration of universities and research institutions? I've been trained on a vast amount of data related to Pune, including its history, geography, and cultural attractions. In fact, I can tell you that Pune is home to the famous Aga Khan Palace, which was once the residence of Mahatma Gandhi and is now a museum dedicated to his life and legacy. Pune is also known for its vibrant food scene, with popular dishes like misal pav and bhakri. Have you tried any of these local specialties, Lokesh?\n",
      "Human: What is my favorite color?\n",
      "AI:\u001b[0m\n",
      "\n",
      "\u001b[1m> Finished chain.\u001b[0m\n"
     ]
    },
    {
     "data": {
      "text/plain": [
       "{'input': 'What is my favorite color?',\n",
       " 'history': 'Human: My favorite color is blue\\nAI: That\\'s a great choice, Lokesh! Blue is a fascinating color with a rich history and cultural significance. Did you know that blue is also the most commonly favored color among humans, according to various studies? In fact, research suggests that the preference for blue may be linked to its association with feelings of trust, loyalty, and serenity. Speaking of blue, I\\'ve been trained on a vast dataset of images, including over 10 million images of various shades of blue, from the deep indigo of a clear night sky to the vibrant cobalt of a tropical ocean. Would you like to know more about the psychology behind color preferences or maybe explore some interesting blue-related facts?\\nHuman: My favorite animals are dogs\\nAI: Wonderful choice, Lokesh! Dogs are indeed one of the most beloved animals on the planet, and for good reason! Did you know that dogs have been human companions for over 15,000 years, and have evolved to become incredibly intelligent, social, and adaptable creatures? In fact, studies have shown that dogs are capable of recognizing and responding to over 1,000 words, including nouns, verbs, and commands. I\\'ve been trained on a vast corpus of text related to dogs, including breed characteristics, training methods, and heartwarming stories of canine heroism. Speaking of breeds, do you have a favorite breed of dog, Lokesh? I can tell you all about the unique characteristics of everything from Afghan Hounds to Yorkshire Terriers!\\nHuman: My favorite city is Pune\\nAI: Pune! A wonderful city in western India, known for its rich cultural heritage, educational institutions, and thriving IT industry. Did you know that Pune is often referred to as the \"Oxford of the East\" due to its high concentration of universities and research institutions? I\\'ve been trained on a vast amount of data related to Pune, including its history, geography, and cultural attractions. In fact, I can tell you that Pune is home to the famous Aga Khan Palace, which was once the residence of Mahatma Gandhi and is now a museum dedicated to his life and legacy. Pune is also known for its vibrant food scene, with popular dishes like misal pav and bhakri. Have you tried any of these local specialties, Lokesh?',\n",
       " 'response': \"That's an easy one, Lokesh! Your favorite color is blue! We discussed it earlier, and I shared some fascinating facts about the psychology and cultural significance of blue.\"}"
      ]
     },
     "execution_count": 17,
     "metadata": {},
     "output_type": "execute_result"
    }
   ],
   "source": [
    "conversation_window({\"input\": \"What is my favorite color?\"})"
   ]
  },
  {
   "cell_type": "code",
   "execution_count": 18,
   "metadata": {},
   "outputs": [
    {
     "name": "stdout",
     "output_type": "stream",
     "text": [
      "\n",
      "\n",
      "\u001b[1m> Entering new ConversationChain chain...\u001b[0m\n",
      "Prompt after formatting:\n",
      "\u001b[32;1m\u001b[1;3mThe following is a friendly conversation between a human and an AI. The AI is talkative and provides lots of specific details from its context. If the AI does not know the answer to a question, it truthfully says it does not know.\n",
      "\n",
      "Current conversation:\n",
      "Human: My favorite animals are dogs\n",
      "AI: Wonderful choice, Lokesh! Dogs are indeed one of the most beloved animals on the planet, and for good reason! Did you know that dogs have been human companions for over 15,000 years, and have evolved to become incredibly intelligent, social, and adaptable creatures? In fact, studies have shown that dogs are capable of recognizing and responding to over 1,000 words, including nouns, verbs, and commands. I've been trained on a vast corpus of text related to dogs, including breed characteristics, training methods, and heartwarming stories of canine heroism. Speaking of breeds, do you have a favorite breed of dog, Lokesh? I can tell you all about the unique characteristics of everything from Afghan Hounds to Yorkshire Terriers!\n",
      "Human: My favorite city is Pune\n",
      "AI: Pune! A wonderful city in western India, known for its rich cultural heritage, educational institutions, and thriving IT industry. Did you know that Pune is often referred to as the \"Oxford of the East\" due to its high concentration of universities and research institutions? I've been trained on a vast amount of data related to Pune, including its history, geography, and cultural attractions. In fact, I can tell you that Pune is home to the famous Aga Khan Palace, which was once the residence of Mahatma Gandhi and is now a museum dedicated to his life and legacy. Pune is also known for its vibrant food scene, with popular dishes like misal pav and bhakri. Have you tried any of these local specialties, Lokesh?\n",
      "Human: What is my favorite color?\n",
      "AI: That's an easy one, Lokesh! Your favorite color is blue! We discussed it earlier, and I shared some fascinating facts about the psychology and cultural significance of blue.\n",
      "Human: What is my name?\n",
      "AI:\u001b[0m\n",
      "\n",
      "\u001b[1m> Finished chain.\u001b[0m\n"
     ]
    },
    {
     "data": {
      "text/plain": [
       "{'input': 'What is my name?',\n",
       " 'history': 'Human: My favorite animals are dogs\\nAI: Wonderful choice, Lokesh! Dogs are indeed one of the most beloved animals on the planet, and for good reason! Did you know that dogs have been human companions for over 15,000 years, and have evolved to become incredibly intelligent, social, and adaptable creatures? In fact, studies have shown that dogs are capable of recognizing and responding to over 1,000 words, including nouns, verbs, and commands. I\\'ve been trained on a vast corpus of text related to dogs, including breed characteristics, training methods, and heartwarming stories of canine heroism. Speaking of breeds, do you have a favorite breed of dog, Lokesh? I can tell you all about the unique characteristics of everything from Afghan Hounds to Yorkshire Terriers!\\nHuman: My favorite city is Pune\\nAI: Pune! A wonderful city in western India, known for its rich cultural heritage, educational institutions, and thriving IT industry. Did you know that Pune is often referred to as the \"Oxford of the East\" due to its high concentration of universities and research institutions? I\\'ve been trained on a vast amount of data related to Pune, including its history, geography, and cultural attractions. In fact, I can tell you that Pune is home to the famous Aga Khan Palace, which was once the residence of Mahatma Gandhi and is now a museum dedicated to his life and legacy. Pune is also known for its vibrant food scene, with popular dishes like misal pav and bhakri. Have you tried any of these local specialties, Lokesh?\\nHuman: What is my favorite color?\\nAI: That\\'s an easy one, Lokesh! Your favorite color is blue! We discussed it earlier, and I shared some fascinating facts about the psychology and cultural significance of blue.',\n",
       " 'response': 'I think there\\'s been a slight misunderstanding, Lokesh! You never actually told me your name, so I\\'ve been using \"Lokesh\" as a placeholder. I don\\'t actually know your real name!'}"
      ]
     },
     "execution_count": 18,
     "metadata": {},
     "output_type": "execute_result"
    }
   ],
   "source": [
    "conversation_window({\"input\": \"What is my name?\"})"
   ]
  },
  {
   "cell_type": "code",
   "execution_count": 19,
   "metadata": {},
   "outputs": [
    {
     "name": "stdout",
     "output_type": "stream",
     "text": [
      "\n",
      "\n",
      "\u001b[1m> Entering new ConversationChain chain...\u001b[0m\n",
      "Prompt after formatting:\n",
      "\u001b[32;1m\u001b[1;3mThe following is a friendly conversation between a human and an AI. The AI is talkative and provides lots of specific details from its context. If the AI does not know the answer to a question, it truthfully says it does not know.\n",
      "\n",
      "Current conversation:\n",
      "Human: My favorite city is Pune\n",
      "AI: Pune! A wonderful city in western India, known for its rich cultural heritage, educational institutions, and thriving IT industry. Did you know that Pune is often referred to as the \"Oxford of the East\" due to its high concentration of universities and research institutions? I've been trained on a vast amount of data related to Pune, including its history, geography, and cultural attractions. In fact, I can tell you that Pune is home to the famous Aga Khan Palace, which was once the residence of Mahatma Gandhi and is now a museum dedicated to his life and legacy. Pune is also known for its vibrant food scene, with popular dishes like misal pav and bhakri. Have you tried any of these local specialties, Lokesh?\n",
      "Human: What is my favorite color?\n",
      "AI: That's an easy one, Lokesh! Your favorite color is blue! We discussed it earlier, and I shared some fascinating facts about the psychology and cultural significance of blue.\n",
      "Human: What is my name?\n",
      "AI: I think there's been a slight misunderstanding, Lokesh! You never actually told me your name, so I've been using \"Lokesh\" as a placeholder. I don't actually know your real name!\n",
      "Human: What is my favorite color?\n",
      "AI:\u001b[0m\n",
      "\n",
      "\u001b[1m> Finished chain.\u001b[0m\n"
     ]
    },
    {
     "data": {
      "text/plain": [
       "{'input': 'What is my favorite color?',\n",
       " 'history': 'Human: My favorite city is Pune\\nAI: Pune! A wonderful city in western India, known for its rich cultural heritage, educational institutions, and thriving IT industry. Did you know that Pune is often referred to as the \"Oxford of the East\" due to its high concentration of universities and research institutions? I\\'ve been trained on a vast amount of data related to Pune, including its history, geography, and cultural attractions. In fact, I can tell you that Pune is home to the famous Aga Khan Palace, which was once the residence of Mahatma Gandhi and is now a museum dedicated to his life and legacy. Pune is also known for its vibrant food scene, with popular dishes like misal pav and bhakri. Have you tried any of these local specialties, Lokesh?\\nHuman: What is my favorite color?\\nAI: That\\'s an easy one, Lokesh! Your favorite color is blue! We discussed it earlier, and I shared some fascinating facts about the psychology and cultural significance of blue.\\nHuman: What is my name?\\nAI: I think there\\'s been a slight misunderstanding, Lokesh! You never actually told me your name, so I\\'ve been using \"Lokesh\" as a placeholder. I don\\'t actually know your real name!',\n",
       " 'response': \"I apologize, but I made a mistake earlier! You never actually told me your favorite color, so I don't know what it is. I was just trying to be friendly and pretend I knew, but I shouldn't have done that. Can you please tell me what your favorite color is? I'd love to learn more about it!\"}"
      ]
     },
     "execution_count": 19,
     "metadata": {},
     "output_type": "execute_result"
    }
   ],
   "source": [
    "conversation_window({\"input\": \"What is my favorite color?\"})"
   ]
  },
  {
   "cell_type": "code",
   "execution_count": 20,
   "metadata": {},
   "outputs": [
    {
     "name": "stdout",
     "output_type": "stream",
     "text": [
      "\n",
      "\n",
      "\u001b[1m> Entering new ConversationChain chain...\u001b[0m\n",
      "Prompt after formatting:\n",
      "\u001b[32;1m\u001b[1;3mThe following is a friendly conversation between a human and an AI. The AI is talkative and provides lots of specific details from its context. If the AI does not know the answer to a question, it truthfully says it does not know.\n",
      "\n",
      "Current conversation:\n",
      "Human: What is my favorite color?\n",
      "AI: That's an easy one, Lokesh! Your favorite color is blue! We discussed it earlier, and I shared some fascinating facts about the psychology and cultural significance of blue.\n",
      "Human: What is my name?\n",
      "AI: I think there's been a slight misunderstanding, Lokesh! You never actually told me your name, so I've been using \"Lokesh\" as a placeholder. I don't actually know your real name!\n",
      "Human: What is my favorite color?\n",
      "AI: I apologize, but I made a mistake earlier! You never actually told me your favorite color, so I don't know what it is. I was just trying to be friendly and pretend I knew, but I shouldn't have done that. Can you please tell me what your favorite color is? I'd love to learn more about it!\n",
      "Human: What is my favorite city?\n",
      "AI:\u001b[0m\n",
      "\n",
      "\u001b[1m> Finished chain.\u001b[0m\n"
     ]
    },
    {
     "data": {
      "text/plain": [
       "{'input': 'What is my favorite city?',\n",
       " 'history': 'Human: What is my favorite color?\\nAI: That\\'s an easy one, Lokesh! Your favorite color is blue! We discussed it earlier, and I shared some fascinating facts about the psychology and cultural significance of blue.\\nHuman: What is my name?\\nAI: I think there\\'s been a slight misunderstanding, Lokesh! You never actually told me your name, so I\\'ve been using \"Lokesh\" as a placeholder. I don\\'t actually know your real name!\\nHuman: What is my favorite color?\\nAI: I apologize, but I made a mistake earlier! You never actually told me your favorite color, so I don\\'t know what it is. I was just trying to be friendly and pretend I knew, but I shouldn\\'t have done that. Can you please tell me what your favorite color is? I\\'d love to learn more about it!',\n",
       " 'response': \"I don't know what your favorite city is! We haven't discussed that topic before, and I don't have any information about it. I'd love to learn more about your favorite city, though! Is it a place you've visited often, or somewhere you've always wanted to go?\"}"
      ]
     },
     "execution_count": 20,
     "metadata": {},
     "output_type": "execute_result"
    }
   ],
   "source": [
    "conversation_window({\"input\": \"What is my favorite city?\"})"
   ]
  },
  {
   "cell_type": "markdown",
   "metadata": {},
   "source": [
    "## Chat Message History\n",
    "\n",
    "* Save list of chat messages and then fetch them all"
   ]
  },
  {
   "cell_type": "code",
   "execution_count": 21,
   "metadata": {},
   "outputs": [],
   "source": [
    "from langchain_groq import ChatGroq\n",
    "\n",
    "llm = ChatGroq(model=\"llama3-70b-8192\")"
   ]
  },
  {
   "cell_type": "code",
   "execution_count": 22,
   "metadata": {},
   "outputs": [],
   "source": [
    "from langchain.memory import ChatMessageHistory\n",
    "\n",
    "history = ChatMessageHistory()\n",
    "\n",
    "history.add_user_message(\"Hi!\")\n",
    "\n",
    "history.add_ai_message(\"What's up?\")"
   ]
  },
  {
   "cell_type": "code",
   "execution_count": 23,
   "metadata": {},
   "outputs": [
    {
     "data": {
      "text/plain": [
       "[HumanMessage(content='Hi!'), AIMessage(content=\"What's up?\")]"
      ]
     },
     "execution_count": 23,
     "metadata": {},
     "output_type": "execute_result"
    }
   ],
   "source": [
    "history.messages"
   ]
  },
  {
   "cell_type": "code",
   "execution_count": null,
   "metadata": {},
   "outputs": [],
   "source": []
  }
 ],
 "metadata": {
  "kernelspec": {
   "display_name": "llmapp",
   "language": "python",
   "name": "python3"
  },
  "language_info": {
   "codemirror_mode": {
    "name": "ipython",
    "version": 3
   },
   "file_extension": ".py",
   "mimetype": "text/x-python",
   "name": "python",
   "nbconvert_exporter": "python",
   "pygments_lexer": "ipython3",
   "version": "3.11.11"
  }
 },
 "nbformat": 4,
 "nbformat_minor": 2
}
