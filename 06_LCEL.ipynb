{
 "cells": [
  {
   "cell_type": "markdown",
   "metadata": {},
   "source": [
    "# LCEL: LANGCHAIN EXPRESSIONS LANGUAGE\n",
    "\n",
    "* LCEL has become the backbone of the newest version of LangChain\n",
    "* Traditional chains are still supported, but treated as \"Legacy\" and have less functionality than the new LCEL chains.\n",
    "* It makes easy to built chains in a compact way.\n",
    "* Support advanced LangChain functionality"
   ]
  },
  {
   "cell_type": "code",
   "execution_count": 1,
   "metadata": {},
   "outputs": [],
   "source": [
    "import os\n",
    "from dotenv import load_dotenv, find_dotenv\n",
    "_ = load_dotenv(find_dotenv())\n",
    "groq_api_key = os.environ[\"GROQ_API_KEY\"]"
   ]
  },
  {
   "cell_type": "code",
   "execution_count": 2,
   "metadata": {},
   "outputs": [],
   "source": [
    "from langchain_groq import ChatGroq\n",
    "\n",
    "chatModel = ChatGroq(model=\"llama3-70b-8192\")"
   ]
  },
  {
   "cell_type": "code",
   "execution_count": 11,
   "metadata": {},
   "outputs": [],
   "source": [
    "from langchain_core.prompts import ChatPromptTemplate\n",
    "from langchain_core.output_parsers import StrOutputParser\n",
    "\n",
    "prompt = ChatPromptTemplate.from_template(\"Tell me a curious fact about {politician}\")\n",
    "\n",
    "chain = prompt | chatModel | StrOutputParser()"
   ]
  },
  {
   "cell_type": "code",
   "execution_count": 12,
   "metadata": {},
   "outputs": [
    {
     "data": {
      "text/plain": [
       "'Here\\'s one:\\n\\nJohn F. Kennedy, the 35th President of the United States, was a **published author** before he entered politics. In fact, his book \"Why England Slept\" (1940) was written when he was just 23 years old! The book was a bestselling analysis of Britain\\'s failure to prepare for World War II, and it even earned him a Pulitzer Prize nomination.\\n\\nThis literary achievement is quite remarkable, considering he was still an undergraduate student at Harvard University when he wrote it. Who knew that a future President would also be a talented author?'"
      ]
     },
     "execution_count": 12,
     "metadata": {},
     "output_type": "execute_result"
    }
   ],
   "source": [
    "chain.invoke({\"politician\" : \"JFK\"})"
   ]
  },
  {
   "cell_type": "markdown",
   "metadata": {},
   "source": [
    "## Legacy Chain"
   ]
  },
  {
   "cell_type": "code",
   "execution_count": 14,
   "metadata": {},
   "outputs": [
    {
     "data": {
      "text/plain": [
       "\"Here's one:\\n\\nRoberto Carlos, the Brazilian football legend, was born with a condition called congenital clubfoot, which means that his right foot was twisted inward and upward. Despite this, he went on to become one of the greatest left-backs in football history, known for his incredible skill, speed, and powerful free kicks. In fact, his clubfoot condition may have even contributed to his unique ability to bend the ball with his left foot, as he had to adapt to playing with an unconventional foot position.\""
      ]
     },
     "execution_count": 14,
     "metadata": {},
     "output_type": "execute_result"
    }
   ],
   "source": [
    "from langchain.chains import LLMChain\n",
    "\n",
    "prompt = ChatPromptTemplate.from_template(\"Tell me a curious fact about {soccer_player}\")\n",
    "\n",
    "traditional_chain = LLMChain(\n",
    "    llm = chatModel,\n",
    "    prompt= prompt\n",
    ")\n",
    "\n",
    "traditional_chain.predict(soccer_player = \"Roberto Carlos\")"
   ]
  },
  {
   "cell_type": "code",
   "execution_count": 17,
   "metadata": {},
   "outputs": [
    {
     "data": {
      "text/plain": [
       "\"Here's one:\\n\\n**Lionel Messi was diagnosed with a growth hormone deficiency when he was 11 years old.**\\n\\nIn 1997, Messi's parents, Jorge and Celia, noticed that their son was significantly shorter than his peers and wasn't growing at a normal rate. After a series of tests, doctors diagnosed him with a growth hormone deficiency, which meant his body wasn't producing enough growth hormone to stimulate normal growth and development.\\n\\nTo treat the condition, Messi had to undergo daily injections of human growth hormone for several years. The treatment was expensive, and his family had to make significant sacrifices to afford it. In fact, Messi's father had to take on extra work to pay for the injections, which cost around $1,500 per month.\\n\\nDespite the challenges, Messi's hard work and dedication to football paid off. He eventually outgrew his condition, and the rest, as they say, is history!\""
      ]
     },
     "execution_count": 17,
     "metadata": {},
     "output_type": "execute_result"
    }
   ],
   "source": [
    "prompt = ChatPromptTemplate.from_template(\"tell me a curious fact about {soccer_player}\")\n",
    "\n",
    "output_parser = StrOutputParser()\n",
    "\n",
    "chain = prompt | chatModel | output_parser\n",
    "\n",
    "chain.invoke({\"soccer_player\": \"Messi\"})"
   ]
  },
  {
   "cell_type": "code",
   "execution_count": 20,
   "metadata": {},
   "outputs": [
    {
     "name": "stdout",
     "output_type": "stream",
     "text": [
      "Here's one:\n",
      "\n",
      "**Cristiano Ronaldo's island hotel resort, Pestana CR7, has a museum dedicated to... himself!**\n",
      "\n",
      "In 2016, Ronaldo opened a luxurious hotel resort on the island of Madeira, Portugal, where he was born. The resort, called Pestana CR7, features a museum dedicated to his life and career, showcasing his trophies, medals, and memorabilia. The museum is called the \"CR7 Museum\" and it's a must-visit for any Ronaldo fan. It's a unique and somewhat unusual tribute to himself, but hey, when you're a global superstar like Ronaldo, you can get away with it!"
     ]
    }
   ],
   "source": [
    "for s in chain.stream({\"soccer_player\":\"Ronaldo\"}):\n",
    "    print(s, end=\"\", flush=True)"
   ]
  },
  {
   "cell_type": "code",
   "execution_count": 21,
   "metadata": {},
   "outputs": [
    {
     "data": {
      "text/plain": [
       "['Here\\'s one:\\n\\n**Cristiano Ronaldo\\'s first name \"Cristiano\" was given to him because of Ronald Reagan, the 40th President of the United States!**\\n\\nRonaldo\\'s father, José Dinis Aveiro, was a big fan of Reagan and named his son after him. In Portuguese, \"Cristiano\" is the equivalent of \"Christian\", which was Reagan\\'s first name. Who knew that one of the greatest soccer players of all time had a presidential connection?\\n\\nIsn\\'t that a curious fact?',\n",
       " \"Here's one:\\n\\n**Lionel Messi has a growth hormone deficiency.**\\n\\nWhen Messi was just 11 years old, he was diagnosed with a growth hormone deficiency that was stunting his growth. His family couldn't afford the treatment, which cost around $1,500 per month. However, Messi's talent on the pitch was so evident that FC Barcelona offered to pay for his treatment if he joined their youth academy. The rest, as they say, is history!\\n\\nIsn't that an amazing fact about one of the greatest footballers of all time?\"]"
      ]
     },
     "execution_count": 21,
     "metadata": {},
     "output_type": "execute_result"
    }
   ],
   "source": [
    "chain.batch([{\"soccer_player\": \"Ronaldo\"}, {\"soccer_player\": \"Messi\"}])"
   ]
  },
  {
   "cell_type": "code",
   "execution_count": null,
   "metadata": {},
   "outputs": [],
   "source": []
  }
 ],
 "metadata": {
  "kernelspec": {
   "display_name": "llmapp",
   "language": "python",
   "name": "python3"
  },
  "language_info": {
   "codemirror_mode": {
    "name": "ipython",
    "version": 3
   },
   "file_extension": ".py",
   "mimetype": "text/x-python",
   "name": "python",
   "nbconvert_exporter": "python",
   "pygments_lexer": "ipython3",
   "version": "3.11.11"
  }
 },
 "nbformat": 4,
 "nbformat_minor": 2
}
