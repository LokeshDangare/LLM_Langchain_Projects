{
 "cells": [
  {
   "cell_type": "code",
   "execution_count": 1,
   "metadata": {},
   "outputs": [],
   "source": [
    "import os\n",
    "from dotenv import load_dotenv, find_dotenv\n",
    "_ = load_dotenv(find_dotenv())\n",
    "groq_api_key = os.environ[\"GROQ_API_KEY\"]"
   ]
  },
  {
   "cell_type": "code",
   "execution_count": 2,
   "metadata": {},
   "outputs": [],
   "source": [
    "from langchain_groq import ChatGroq\n",
    "\n",
    "model = ChatGroq(model=\"llama3-70b-8192\")"
   ]
  },
  {
   "cell_type": "code",
   "execution_count": 3,
   "metadata": {},
   "outputs": [],
   "source": [
    "from langchain_core.prompts import ChatPromptTemplate\n",
    "from langchain_core.output_parsers import StrOutputParser\n",
    "\n",
    "prompt = ChatPromptTemplate.from_template(\"Tell me a curious fact about {cricketer}\")\n",
    "\n",
    "output_parser = StrOutputParser()"
   ]
  },
  {
   "cell_type": "code",
   "execution_count": 5,
   "metadata": {},
   "outputs": [
    {
     "data": {
      "text/plain": [
       "\"Here's one:\\n\\nRohit Sharma is the only player in international cricket to have scored three double centuries in One-Day Internationals (ODIs). He achieved this feat in 2013, 2014, and 2017, respectively. What's even more remarkable is that all three of his double centuries have come against different teams: Australia, Sri Lanka, and Sri Lanka again!\""
      ]
     },
     "execution_count": 5,
     "metadata": {},
     "output_type": "execute_result"
    }
   ],
   "source": [
    "chain = prompt | model | output_parser\n",
    "\n",
    "chain.invoke({\"cricketer\": \"Rohit Sharma\"})"
   ]
  },
  {
   "cell_type": "markdown",
   "metadata": {},
   "source": [
    "## Use of .bind() to add arguments to a Runnable in a LCEL Chain.\n",
    "\n",
    "* For example: we can add an argument to stop the model response when it reaches the word \"Rohit Sharma\"."
   ]
  },
  {
   "cell_type": "code",
   "execution_count": 8,
   "metadata": {},
   "outputs": [
    {
     "data": {
      "text/plain": [
       "\"Here's a curious fact about Rohit \""
      ]
     },
     "execution_count": 8,
     "metadata": {},
     "output_type": "execute_result"
    }
   ],
   "source": [
    "chain = prompt | model.bind(stop=[\"Sharma\"]) | output_parser\n",
    "\n",
    "chain.invoke({\"cricketer\": \"Rohit Sharma\"})"
   ]
  },
  {
   "cell_type": "markdown",
   "metadata": {},
   "source": [
    "## Combining LCEL Chains"
   ]
  },
  {
   "cell_type": "code",
   "execution_count": 9,
   "metadata": {},
   "outputs": [],
   "source": [
    "from langchain_groq import ChatGroq\n",
    "\n",
    "model = ChatGroq(model=\"llama3-70b-8192\")"
   ]
  },
  {
   "cell_type": "code",
   "execution_count": 19,
   "metadata": {},
   "outputs": [],
   "source": [
    "from langchain_core.prompts import ChatPromptTemplate\n",
    "from langchain_core.output_parsers import StrOutputParser\n",
    "\n",
    "prompt = ChatPromptTemplate.from_template(\"tell me a sentence about {politician}\")\n",
    "\n",
    "output_parser = StrOutputParser()\n",
    "\n",
    "chain = prompt | model | output_parser"
   ]
  },
  {
   "cell_type": "code",
   "execution_count": 20,
   "metadata": {},
   "outputs": [
    {
     "data": {
      "text/plain": [
       "'Abraham Lincoln, the 16th President of the United States, issued the Emancipation Proclamation in 1863, declaring freedom for all slaves in Confederate territory.'"
      ]
     },
     "execution_count": 20,
     "metadata": {},
     "output_type": "execute_result"
    }
   ],
   "source": [
    "chain.invoke(\"Lincoln\")"
   ]
  },
  {
   "cell_type": "markdown",
   "metadata": {},
   "source": [
    "### Combine chain"
   ]
  },
  {
   "cell_type": "code",
   "execution_count": 24,
   "metadata": {},
   "outputs": [],
   "source": [
    "historian_prompt = ChatPromptTemplate.from_template(\"Was {politician} positive for Humanity?\")\n",
    "\n",
    "combine_chain = {\"politician\": chain} | historian_prompt | model | output_parser"
   ]
  },
  {
   "cell_type": "code",
   "execution_count": 25,
   "metadata": {},
   "outputs": [
    {
     "data": {
      "text/plain": [
       "\"What a great question!\\n\\nAbsolutely, Abraham Lincoln's Emancipation Proclamation in 1863 was a profoundly positive step for humanity. Here's why:\\n\\n1. **End of Slavery**: The Emancipation Proclamation paved the way for the eventual abolition of slavery in the United States. It declared that all slaves in Confederate territory were free, effective on January 1, 1863. This was a crucial step towards ending the institution of slavery, which was a moral evil that had plagued the country since its founding.\\n2. **Advancement of Human Rights**: The Emancipation Proclamation recognized the inherent dignity and humanity of enslaved people, acknowledging that they were entitled to freedom and equality. This marked a significant milestone in the struggle for human rights and social justice in the United States.\\n3. **Unity and Equality**: By issuing the Emancipation Proclamation, Lincoln took a crucial step towards uniting the country and promoting equality among all citizens. He emphasized that the Civil War was not only about preserving the Union but also about ending the injustice of slavery.\\n4. **Inspiration for Future Generations**: The Emancipation Proclamation inspired future generations to continue fighting for civil rights and social justice. It served as a beacon of hope for those seeking freedom and equality, including women, immigrants, and other marginalized groups.\\n5. **Global Impact**: The Emancipation Proclamation had far-reaching implications beyond the United States. It influenced the global abolition of slavery, with many countries eventually following suit in banning the practice.\\n6. **Moral Leadership**: Lincoln's decision to issue the Emancipation Proclamation demonstrated moral leadership and courage. It showed that even in the midst of a brutal civil war, the President was willing to take a stand against injustice and fight for what was right.\\n7. **Paving the way for the 13th Amendment**: The Emancipation Proclamation laid the groundwork for the eventual passage of the 13th Amendment to the US Constitution in 1865, which formally abolished slavery throughout the United States.\\n\\nIn conclusion, Abraham Lincoln's Emancipation Proclamation was a landmark moment in American history that had a profoundly positive impact on humanity. It marked a significant step towards ending slavery, promoting human rights, and advancing social justice, inspiring future generations to continue fighting for a more equitable society.\""
      ]
     },
     "execution_count": 25,
     "metadata": {},
     "output_type": "execute_result"
    }
   ],
   "source": [
    "combine_chain.invoke({\"politician\": \"Lincoln\"})"
   ]
  },
  {
   "cell_type": "markdown",
   "metadata": {},
   "source": [
    "## Another Example: A Chain inside another chain."
   ]
  },
  {
   "cell_type": "code",
   "execution_count": 35,
   "metadata": {},
   "outputs": [
    {
     "data": {
      "text/plain": [
       "'François Mitterrand was the President of France from 1981 to 1995, so the country he is from is France. France is located in the continent of Europe.'"
      ]
     },
     "execution_count": 35,
     "metadata": {},
     "output_type": "execute_result"
    }
   ],
   "source": [
    "from operator import itemgetter\n",
    "\n",
    "from langchain_core.prompts import ChatPromptTemplate\n",
    "from langchain_core.output_parsers import StrOutputParser\n",
    "from langchain_groq import ChatGroq\n",
    "\n",
    "prompt1 = ChatPromptTemplate.from_template(\"What is the country {politician} is from?\")\n",
    "prompt2 = ChatPromptTemplate.from_template(\"What continent is the country {country} in? respond in {language}\")\n",
    "\n",
    "output_parser = StrOutputParser()\n",
    "\n",
    "model = ChatGroq(model=\"llama3-70b-8192\")\n",
    "\n",
    "chain1 = prompt1 | model | output_parser\n",
    "\n",
    "chain2 = (\n",
    "    {\"country\": chain1, \"language\": itemgetter(\"language\")}\n",
    "    | prompt2\n",
    "    | model\n",
    "    | output_parser\n",
    ")\n",
    "\n",
    "chain2.invoke({\"politician\": \"Miterrand\", \"language\": \"English\"})"
   ]
  },
  {
   "cell_type": "code",
   "execution_count": 37,
   "metadata": {},
   "outputs": [
    {
     "data": {
      "text/plain": [
       "'Excelente deducción! François Mitterrand fue el presidente de Francia desde 1981 hasta 1995. Por lo tanto, el país del que es originario es Francia, que se encuentra en el continente de Europa.'"
      ]
     },
     "execution_count": 37,
     "metadata": {},
     "output_type": "execute_result"
    }
   ],
   "source": [
    "chain2.invoke({\"politician\": \"Miterrand\", \"language\": \"Spanish\"})"
   ]
  },
  {
   "cell_type": "code",
   "execution_count": 38,
   "metadata": {},
   "outputs": [
    {
     "data": {
      "text/plain": [
       "'आप शायद फ्रांस के राष्ट्रपति फ्रांस्वा मिटरांड के बारे में सोच रहे हैं, जिन्होंने 1981 से 1995 तक फ्रांस के राष्ट्रपति के रूप में कार्य किया। इसलिए, मिटरांड से जुड़ा देश फ्रांस है! फ्रांस यूरोप महाद्वीप में स्थित है।'"
      ]
     },
     "execution_count": 38,
     "metadata": {},
     "output_type": "execute_result"
    }
   ],
   "source": [
    "chain2.invoke({\"politician\": \"Miterrand\", \"language\": \"Hindi\"})"
   ]
  },
  {
   "cell_type": "markdown",
   "metadata": {},
   "source": [
    "## LCEL Chain at work in typical RAG Application"
   ]
  },
  {
   "cell_type": "code",
   "execution_count": 44,
   "metadata": {},
   "outputs": [],
   "source": [
    "from langchain_groq import ChatGroq\n",
    "\n",
    "model = ChatGroq(model=\"llama3-70b-8192\")"
   ]
  },
  {
   "cell_type": "code",
   "execution_count": 46,
   "metadata": {},
   "outputs": [
    {
     "name": "stderr",
     "output_type": "stream",
     "text": [
      "c:\\Users\\Lokesh\\anaconda3\\envs\\llmapp\\Lib\\site-packages\\langchain\\hub.py:86: DeprecationWarning: The `langchainhub sdk` is deprecated.\n",
      "Please use the `langsmith sdk` instead:\n",
      "  pip install langsmith\n",
      "Use the `pull_prompt` method.\n",
      "  res_dict = client.pull_repo(owner_repo_commit)\n"
     ]
    }
   ],
   "source": [
    "import bs4\n",
    "from langchain import hub\n",
    "from langchain_chroma import Chroma\n",
    "from langchain_community.document_loaders import WebBaseLoader\n",
    "from langchain_core.output_parsers import StrOutputParser\n",
    "from langchain_core.runnables import RunnablePassthrough\n",
    "from langchain_community.embeddings import HuggingFaceEmbeddings\n",
    "from langchain_text_splitters import RecursiveCharacterTextSplitter\n",
    "\n",
    "loader = WebBaseLoader(\n",
    "    web_paths=(\"https://lilianweng.github.io/posts/2023-06-23-agent/\",),\n",
    "    bs_kwargs=dict(\n",
    "        parse_only = bs4.SoupStrainer(\n",
    "            class_=(\"post-content\", \"post-title\", \"post-header\")\n",
    "        )\n",
    "    ),\n",
    ")\n",
    "\n",
    "docs = loader.load()\n",
    "\n",
    "text_splitter = RecursiveCharacterTextSplitter(chunk_size= 1000, chunk_overlap= 200)\n",
    "\n",
    "splits = text_splitter.split_documents(docs)\n",
    "\n",
    "vector_db = Chroma.from_documents(documents=splits, embedding= HuggingFaceEmbeddings(model_name=\"sentence-transformers/all-MiniLM-L6-v2\", model_kwargs={'device': 'cpu'}))\n",
    "\n",
    "retriever = vector_db.as_retriever()\n",
    "\n",
    "prompt = hub.pull(\"rlm/rag-prompt\")\n",
    "\n",
    "def format_docs(docs):\n",
    "    return \"\\n\\n\".join(doc.page_content for doc in docs)\n",
    "\n",
    "rag_chain = (\n",
    "    {\"context\": retriever | format_docs, \"question\": RunnablePassthrough()}\n",
    "    | prompt\n",
    "    | model\n",
    "    | StrOutputParser()\n",
    ")\n"
   ]
  },
  {
   "cell_type": "code",
   "execution_count": 48,
   "metadata": {},
   "outputs": [
    {
     "name": "stderr",
     "output_type": "stream",
     "text": [
      "c:\\Users\\Lokesh\\anaconda3\\envs\\llmapp\\Lib\\site-packages\\pydantic\\main.py:1114: PydanticDeprecatedSince20: The `dict` method is deprecated; use `model_dump` instead. Deprecated in Pydantic V2.0 to be removed in V3.0. See Pydantic V2 Migration Guide at https://errors.pydantic.dev/2.9/migration/\n",
      "  warnings.warn('The `dict` method is deprecated; use `model_dump` instead.', category=PydanticDeprecatedSince20)\n"
     ]
    },
    {
     "data": {
      "text/plain": [
       "'Task decomposition is the process of breaking down a complex task into smaller, more manageable steps. This can be done using various techniques, such as Chain of Thought (CoT) or Tree of Thoughts, which involve \"thinking step by step\" to decompose hard tasks into simpler ones. The goal is to transform big tasks into multiple manageable tasks, making it easier to plan and execute them.'"
      ]
     },
     "execution_count": 48,
     "metadata": {},
     "output_type": "execute_result"
    }
   ],
   "source": [
    "rag_chain.invoke(\"what is task decomposition?\")"
   ]
  },
  {
   "cell_type": "code",
   "execution_count": null,
   "metadata": {},
   "outputs": [],
   "source": []
  }
 ],
 "metadata": {
  "kernelspec": {
   "display_name": "llmapp",
   "language": "python",
   "name": "python3"
  },
  "language_info": {
   "codemirror_mode": {
    "name": "ipython",
    "version": 3
   },
   "file_extension": ".py",
   "mimetype": "text/x-python",
   "name": "python",
   "nbconvert_exporter": "python",
   "pygments_lexer": "ipython3",
   "version": "3.11.11"
  }
 },
 "nbformat": 4,
 "nbformat_minor": 2
}
