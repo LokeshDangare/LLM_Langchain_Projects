{
 "cells": [
  {
   "cell_type": "code",
   "execution_count": 3,
   "metadata": {},
   "outputs": [],
   "source": [
    "import os\n",
    "from dotenv import load_dotenv, find_dotenv\n",
    "_ = load_dotenv(find_dotenv())\n",
    "groq_api_key = os.environ[\"GROQ_API_KEY\"]"
   ]
  },
  {
   "cell_type": "code",
   "execution_count": 4,
   "metadata": {},
   "outputs": [],
   "source": [
    "from langchain_groq import ChatGroq\n",
    "\n",
    "llm = ChatGroq(model=\"llama3-70b-8192\")"
   ]
  },
  {
   "cell_type": "markdown",
   "metadata": {},
   "source": [
    "## Single Agent"
   ]
  },
  {
   "cell_type": "code",
   "execution_count": 7,
   "metadata": {},
   "outputs": [
    {
     "data": {
      "text/plain": [
       "[{'url': 'https://www.givemesport.com/ranking-the-15-best-players-at-euro-2024/',\n",
       "  'content': 'Best 11 At Euro 2024 Boasting the likes of Lamine Yamal and Cody Gakpo, there have been plenty of stars strutting their stuff in Germany.'},\n",
       " {'url': 'https://www.90min.com/features/10-best-players-euro-2024-ranked',\n",
       "  'content': \"The 10 best players of Euro 2024 - ranked The 10 best players of Euro 2024 - ranked The best players of Euro 2024 The Three Lions number one was once again in superb form for his nation throughout Euro 2024, particularly in the early rounds when England's attackers were struggling for form at the other end of the pitch. There was point during Euro 2024 in which Jamal Musiala looked certain to win Player of the Tournament. As expected, he was bloody brilliant at Euro 2024 for Spain and picked up the Player of the Tournament award, but he's not our winner...\"},\n",
       " {'url': 'https://www.nbcsports.com/soccer/news/euro-2024-player-power-rankings-who-are-the-top-20-stars',\n",
       "  'content': 'Plus, every tournament there are always stars who emerge to make a name for themselves and players from Georgia and Austria are standing tall. Below are the top 20 players at EURO 2024 based on current form and we will update it throughout the tournament.'}]"
      ]
     },
     "execution_count": 7,
     "metadata": {},
     "output_type": "execute_result"
    }
   ],
   "source": [
    "from langchain_community.tools.tavily_search import TavilySearchResults\n",
    "search = TavilySearchResults(max_results=3)\n",
    "search.invoke(\"Who are the top stars of the Eurocup 2024?\")"
   ]
  },
  {
   "cell_type": "code",
   "execution_count": 8,
   "metadata": {},
   "outputs": [],
   "source": [
    "tools = [search]"
   ]
  },
  {
   "cell_type": "code",
   "execution_count": 9,
   "metadata": {},
   "outputs": [
    {
     "data": {
      "text/plain": [
       "[TavilySearchResults(max_results=3)]"
      ]
     },
     "execution_count": 9,
     "metadata": {},
     "output_type": "execute_result"
    }
   ],
   "source": [
    "tools"
   ]
  },
  {
   "cell_type": "code",
   "execution_count": 10,
   "metadata": {},
   "outputs": [],
   "source": [
    "from langgraph.prebuilt import create_react_agent\n",
    "\n",
    "agent_executor = create_react_agent(llm, tools)"
   ]
  },
  {
   "cell_type": "code",
   "execution_count": 12,
   "metadata": {},
   "outputs": [
    {
     "data": {
      "text/plain": [
       "[HumanMessage(content='Where is the soccer Eurocup 2024 played?', id='9f957b45-5e00-4a2c-907b-93df0c59c174'),\n",
       " AIMessage(content='', additional_kwargs={'tool_calls': [{'id': 'call_gx8w', 'function': {'arguments': '{\"query\":\"Where is the soccer Eurocup 2024 played?\"}', 'name': 'tavily_search_results_json'}, 'type': 'function'}]}, response_metadata={'token_usage': {'completion_tokens': 57, 'prompt_tokens': 950, 'total_tokens': 1007, 'completion_time': 0.162857143, 'prompt_time': 0.047943294, 'queue_time': 0.050765007, 'total_time': 0.210800437}, 'model_name': 'llama3-70b-8192', 'system_fingerprint': 'fp_753a4aecf6', 'finish_reason': 'tool_calls', 'logprobs': None}, id='run-097322d3-17c8-4620-8fe3-cdfbbc51d7cd-0', tool_calls=[{'name': 'tavily_search_results_json', 'args': {'query': 'Where is the soccer Eurocup 2024 played?'}, 'id': 'call_gx8w', 'type': 'tool_call'}], usage_metadata={'input_tokens': 950, 'output_tokens': 57, 'total_tokens': 1007}),\n",
       " ToolMessage(content='[{\"url\": \"https://en.as.com/soccer/where-is-euro-2024-played-countries-and-stadiums-n/\", \"content\": \"Euro 2024 is being played solely in Germany with the next edition of the tournament set to be held across five countries with games to be staged in Wales, Scotland, England, Northern Ireland and\"}, {\"url\": \"https://olympics.com/en/news/uefa-euro-2024-venues-complete-list-when-where-final-opening-game\", \"content\": \"UEFA EURO 2024 will be held in Germany across June and July, with 10 host cities staging the major football tournament.. It all begins in Munich on June 14, when hosts Germany take on Scotland in the tournament\\'s opening game at Bayern Munich\\'s stadium.. The final takes place a month later on July 14 at Olympiastadion Berlin in the German capital, which hosted the 2006 FIFA World Cup final\"}, {\"url\": \"https://www.foxsports.com/stories/soccer/euro-2024-locations-host-cities-and-stadiums\", \"content\": \"The Munich Football Arena in Munich will host Germany\\'s opening match against Scotland. Where is the Euro 2024 Final? Berlin\\'s Olympiastadion will host the Euro 2024 Final, which will be held on\"}]', name='tavily_search_results_json', id='fb27d67e-11e6-46b3-9de6-b67fc0019842', tool_call_id='call_gx8w'),\n",
       " AIMessage(content='The soccer Eurocup 2024 is played in Germany.', response_metadata={'token_usage': {'completion_tokens': 13, 'prompt_tokens': 1307, 'total_tokens': 1320, 'completion_time': 0.037217627, 'prompt_time': 0.061186454, 'queue_time': 0.018923158999999995, 'total_time': 0.098404081}, 'model_name': 'llama3-70b-8192', 'system_fingerprint': 'fp_753a4aecf6', 'finish_reason': 'stop', 'logprobs': None}, id='run-0ee92c6d-0df7-4317-a774-c8ec2b643e63-0', usage_metadata={'input_tokens': 1307, 'output_tokens': 13, 'total_tokens': 1320})]"
      ]
     },
     "execution_count": 12,
     "metadata": {},
     "output_type": "execute_result"
    }
   ],
   "source": [
    "from langchain_core.messages import HumanMessage\n",
    "\n",
    "response = agent_executor.invoke({\"messages\": [HumanMessage(content=\"Where is the soccer Eurocup 2024 played?\")]})\n",
    "\n",
    "response[\"messages\"]"
   ]
  },
  {
   "cell_type": "code",
   "execution_count": 13,
   "metadata": {},
   "outputs": [
    {
     "data": {
      "text/plain": [
       "[HumanMessage(content='What is python?', id='856c1e22-edf5-48ff-96b3-d56ffe3bad9b'),\n",
       " AIMessage(content='', additional_kwargs={'tool_calls': [{'id': 'call_x00f', 'function': {'arguments': '{\"query\":\"what is python\"}', 'name': 'tavily_search_results_json'}, 'type': 'function'}]}, response_metadata={'token_usage': {'completion_tokens': 70, 'prompt_tokens': 943, 'total_tokens': 1013, 'completion_time': 0.2, 'prompt_time': 0.055337034, 'queue_time': 0.017800345000000002, 'total_time': 0.255337034}, 'model_name': 'llama3-70b-8192', 'system_fingerprint': 'fp_753a4aecf6', 'finish_reason': 'tool_calls', 'logprobs': None}, id='run-da0ba2f3-a6b0-4b78-ae2f-e26e43b22e06-0', tool_calls=[{'name': 'tavily_search_results_json', 'args': {'query': 'what is python'}, 'id': 'call_x00f', 'type': 'tool_call'}], usage_metadata={'input_tokens': 943, 'output_tokens': 70, 'total_tokens': 1013}),\n",
       " ToolMessage(content='[{\"url\": \"https://www.pythontutorial.net/getting-started/what-is-python/\", \"content\": \"Learn what Python is, why you should learn it, and how it differs from other programming languages. Python is a high-level, general-purpose, interpreted language that can be used for various domains and applications.\"}, {\"url\": \"https://www.geeksforgeeks.org/introduction-to-python/\", \"content\": \"Prerequisites:\\\\nKnowledge of any programming language can be a plus.\\\\nReason for increasing popularity\\\\nLANGUAGE FEATURES\\\\nPython vs JAVA\\\\nPython\\\\nJava\\\\nDynamically Typed\\\\nStatically Typed\\\\nThe classical Hello World program illustrating the relative verbosity of a Java Program and Python Program\\\\nJava Code\\\\nPython Code\\\\nSimilarity with Java\\\\nLOOK and FEEL of the Python\\\\nGUI\\\\nCommand Line interface\\\\nSoftwares making use of Python\\\\nPython has been successfully embedded in a number of software products as a scripting language.\\\\n Data Structures and Algorithms\\\\nML & Data Science\\\\nWeb Development\\\\nLanguages\\\\nInterview Corner\\\\nCS Subjects\\\\nJobs\\\\nPractice\\\\nContests\\\\nIntroduction To Python\\\\nPython is a widely used general-purpose, high level programming language. Output:\\\\nOutput:\\\\nSelection\\\\nSelection in Python is made using the two keywords ‘if’ and ‘elif’\\\\nand else (elseif)\\\\nOutput:\\\\n It’s like you are going to shop at the local market and made a list of some items and later on you can add more and more items to the list.\\\\nappend() function is used to add data to the list.\\\\n Introduction and Setup\\\\nIt will look somehow this :\\\\nThe ” >>> ” represents the python shell and its ready to take python commands and code.\\\\n\"}, {\"url\": \"https://en.wikipedia.org/wiki/Python_(programming_language)\", \"content\": \"Other implementations\\\\nUnsupported implementations\\\\nOther just-in-time Python compilers have been developed, but are now unsupported:\\\\nCross-compilers to other languages\\\\nThere are several compilers/transpilers to high-level object languages, with either unrestricted Python, a restricted subset of Python, or a language similar to Python as the source language:\\\\nSpecialized:\\\\nOlder projects (or not to be used with Python 3.x and latest syntax):\\\\nPerformance\\\\nPerformance comparison of various Python implementations on a non-numerical (combinatorial) workload was presented at EuroSciPy \\'13.[160] Python\\'s performance compared to other programming languages is also benchmarked by The Computer Language Benchmarks Game.[161]\\\\nDevelopment\\\\nPython\\'s development is conducted largely through the Python Enhancement Proposal (PEP) process, the primary mechanism for proposing major new features, collecting community input on issues, and documenting Python design decisions.[162] Python coding style is covered in PEP\\xa08.[163] Outstanding PEPs are reviewed and commented on by the Python community and the steering council.[162]\\\\nEnhancement of the language corresponds with the development of the CPython reference implementation. Python\\xa02.7.18, released in 2020, was the last release of Python\\xa02.[35]\\\\nPython consistently ranks as one of the most popular programming languages.[36][37][38][39]\\\\nHistory\\\\nPython was conceived in the late 1980s[40] by Guido van Rossum at Centrum Wiskunde & Informatica (CWI) in the Netherlands as a successor to the ABC programming language, which was inspired by SETL,[41] capable of exception handling and interfacing with the Amoeba operating system.[10] Its implementation began in December\\xa01989.[42] Van Rossum shouldered sole responsibility for the project, as the lead developer, until 12 July 2018, when he announced his \\\\\"permanent vacation\\\\\" from his responsibilities as Python\\'s \\\\\"benevolent dictator for life\\\\\", a title the Python community bestowed upon him to reflect his long-term commitment as the project\\'s chief decision-maker.[43] In January\\xa02019, active Python core developers elected a five-member Steering Council to lead the project.[44][45]\\\\nPython 2.0 was released on 16 October 2000, with many major new features such as list comprehensions, cycle-detecting garbage collection, reference counting, and Unicode support.[46] Python\\xa03.0, released on 3 December 2008, with many of its major features backported to Python\\xa02.6.x[47] and 2.7.x. The Decimal type/class in the decimal module provides decimal floating-point numbers to a pre-defined arbitrary precision and several rounding modes.[116] The Fraction class in the fractions module provides arbitrary precision for rational numbers.[117]\\\\nDue to Python\\'s extensive mathematics library, and the third-party library NumPy that further extends the native capabilities, it is frequently used as a scientific scripting language to aid in problems such as numerical data processing and manipulation.[118][119]\\\\nProgramming examples\\\\nHello world program:\\\\nProgram to calculate the factorial of a positive integer:\\\\nLibraries\\\\nPython\\'s large standard library[120] provides tools suited to many tasks and is commonly cited as one of its greatest strengths. SageMath is a computer algebra system with a notebook interface programmable in Python: its library covers many aspects of mathematics, including algebra, combinatorics, numerical mathematics, number theory, and calculus.[197] OpenCV has Python bindings with a rich set of features for computer vision and image processing.[198]\\\\nPython is commonly used in artificial intelligence projects and machine learning projects with the help of libraries like TensorFlow, Keras, Pytorch, and scikit-learn.[199][200][201][202] As a scripting language with a modular architecture, simple syntax, and rich text processing tools, Python is often used for natural language processing.[203]\\\\nPython can also be used for graphical user interface (GUI) by using libraries like Tkinter.[204][205]\\\\nPython can also be used to create games, with libraries such as Pygame, which can make 2D games.\\\\n This is reflected in its name—a tribute to the British comedy group Monty Python[76]—and in occasionally playful approaches to tutorials and reference materials, such as the use of the terms \\\\\"spam\\\\\" and \\\\\"eggs\\\\\" (a reference to a Monty Python sketch) in examples, instead of the often-used \\\\\"foo\\\\\" and \\\\\"bar\\\\\".[77][78]\\\\nA common neologism in the Python community is pythonic, which has a wide range of meanings related to program style.\"}]', name='tavily_search_results_json', id='32e676b8-cbc6-46ef-9bf2-c6f5148c7c6d', tool_call_id='call_x00f'),\n",
       " AIMessage(content=\"Python is a high-level, general-purpose, interpreted language that can be used for various domains and applications. It's a popular programming language known for its simplicity, readability, and ease of use. Python can be used for web development, data science, machine learning, automation, and more.\", response_metadata={'token_usage': {'completion_tokens': 59, 'prompt_tokens': 2347, 'total_tokens': 2406, 'completion_time': 0.17340054, 'prompt_time': 0.138921512, 'queue_time': 0.039424016000000006, 'total_time': 0.312322052}, 'model_name': 'llama3-70b-8192', 'system_fingerprint': 'fp_2f30b0b571', 'finish_reason': 'stop', 'logprobs': None}, id='run-5f6c8460-f56f-49ff-b584-efe2dc5bd751-0', usage_metadata={'input_tokens': 2347, 'output_tokens': 59, 'total_tokens': 2406})]"
      ]
     },
     "execution_count": 13,
     "metadata": {},
     "output_type": "execute_result"
    }
   ],
   "source": [
    "from langchain_core.messages import HumanMessage\n",
    "\n",
    "response = agent_executor.invoke({\"messages\": [HumanMessage(content=\"What is python?\")]})\n",
    "\n",
    "response[\"messages\"]"
   ]
  },
  {
   "cell_type": "code",
   "execution_count": 15,
   "metadata": {},
   "outputs": [
    {
     "name": "stdout",
     "output_type": "stream",
     "text": [
      "{'agent': {'messages': [AIMessage(content='', additional_kwargs={'tool_calls': [{'id': 'call_g9na', 'function': {'arguments': '{\"query\":\"2024 EUROCUP final match details\"}', 'name': 'tavily_search_results_json'}, 'type': 'function'}]}, response_metadata={'token_usage': {'completion_tokens': 54, 'prompt_tokens': 962, 'total_tokens': 1016, 'completion_time': 0.154285714, 'prompt_time': 0.046337232, 'queue_time': 0.030035046000000003, 'total_time': 0.200622946}, 'model_name': 'llama3-70b-8192', 'system_fingerprint': 'fp_753a4aecf6', 'finish_reason': 'tool_calls', 'logprobs': None}, id='run-3d6688a6-5013-404d-957c-f7900267f395-0', tool_calls=[{'name': 'tavily_search_results_json', 'args': {'query': '2024 EUROCUP final match details'}, 'id': 'call_g9na', 'type': 'tool_call'}], usage_metadata={'input_tokens': 962, 'output_tokens': 54, 'total_tokens': 1016})]}}\n",
      "----\n",
      "{'tools': {'messages': [ToolMessage(content='[{\"url\": \"https://en.wikipedia.org/wiki/UEFA_Euro_2024_Final\", \"content\": \"The UEFA Euro 2024 final was a football match that determined the winners of UEFA Euro 2024.The match was the seventeenth final of the European Championship, a quadrennial tournament contested by the men\\'s national teams of the member associations of UEFA to decide the champions of Europe. The match was held at the Olympiastadion in Berlin, Germany, on 14 July 2024, and was contested by Spain\"}, {\"url\": \"https://football.fandom.com/wiki/UEFA_Euro_2024_Final\", \"content\": \"The UEFA Euro 2024 final was football match to determine the winners of UEFA Euro 2024. The match was be the 17th final of the UEFA European Championship, a quadrennial tournament contested by the men\\'s national teams of the member associations of UEFA to decide the champions of Europe. The match was held at the Olympiastadion in Berlin, Germany, on 14 July 2024 and was contested by Spain, in\"}, {\"url\": \"https://www.aljazeera.com/sports/2024/7/11/uefa-euro-2024-final-teams-match-schedule-start-times-venue-date\", \"content\": \"After a whopping 50 matches, the Euro 2024 gears up for its ultimate clash, as Spain and England are set to meet in Sunday\\'s final. Spain are aiming for a record fourth title at the continental\"}]', name='tavily_search_results_json', tool_call_id='call_g9na')]}}\n",
      "----\n",
      "{'agent': {'messages': [AIMessage(content='The 2024 EUROCUP final match will be held at the Olympiastadion in Berlin, Germany, on 14 July 2024, and it will be contested by Spain and England.', response_metadata={'token_usage': {'completion_tokens': 43, 'prompt_tokens': 1355, 'total_tokens': 1398, 'completion_time': 0.122857143, 'prompt_time': 0.099867787, 'queue_time': 0.18291267, 'total_time': 0.22272493}, 'model_name': 'llama3-70b-8192', 'system_fingerprint': 'fp_753a4aecf6', 'finish_reason': 'stop', 'logprobs': None}, id='run-b3785bfe-ef13-4501-9f95-ce62bf0603d6-0', usage_metadata={'input_tokens': 1355, 'output_tokens': 43, 'total_tokens': 1398})]}}\n",
      "----\n"
     ]
    }
   ],
   "source": [
    "for chunk in agent_executor.stream(\n",
    "    {\"messages\": [HumanMessage(content=\"When and Where will it be the 2024 EUROCUP final Match, who was won the final match?\")]}\n",
    "):\n",
    "\n",
    "    print(chunk)\n",
    "    print(\"----\")\n"
   ]
  },
  {
   "cell_type": "markdown",
   "metadata": {},
   "source": [
    "## Adding Memory\n",
    "\n",
    "* Adding memory in LangGraph is very similar to what we did with LangChain."
   ]
  },
  {
   "cell_type": "code",
   "execution_count": 16,
   "metadata": {},
   "outputs": [],
   "source": [
    "from langgraph.checkpoint.memory import MemorySaver\n",
    "memory = MemorySaver()"
   ]
  },
  {
   "cell_type": "code",
   "execution_count": 17,
   "metadata": {},
   "outputs": [],
   "source": [
    "agent_executor = create_react_agent(llm, tools, checkpointer=memory)\n",
    "config = {\"configurable\": {\"thread_id\":\"001\"}}"
   ]
  },
  {
   "cell_type": "code",
   "execution_count": 18,
   "metadata": {},
   "outputs": [
    {
     "name": "stdout",
     "output_type": "stream",
     "text": [
      "{'agent': {'messages': [AIMessage(content='', additional_kwargs={'tool_calls': [{'id': 'call_jyr5', 'function': {'arguments': '{\"query\":\"2024 EUROCUP winner\"}', 'name': 'tavily_search_results_json'}, 'type': 'function'}]}, response_metadata={'token_usage': {'completion_tokens': 52, 'prompt_tokens': 950, 'total_tokens': 1002, 'completion_time': 0.156465091, 'prompt_time': 0.057655552, 'queue_time': 0.018585406999999998, 'total_time': 0.214120643}, 'model_name': 'llama3-70b-8192', 'system_fingerprint': 'fp_2f30b0b571', 'finish_reason': 'tool_calls', 'logprobs': None}, id='run-385dce3c-acca-4b10-9e98-c2e4577f0bbf-0', tool_calls=[{'name': 'tavily_search_results_json', 'args': {'query': '2024 EUROCUP winner'}, 'id': 'call_jyr5', 'type': 'tool_call'}], usage_metadata={'input_tokens': 950, 'output_tokens': 52, 'total_tokens': 1002})]}}\n",
      "----\n",
      "{'tools': {'messages': [ToolMessage(content='[{\"url\": \"https://www.sportingnews.com/us/soccer/news/who-won-euro-2024-spain-england-oyarzabal/19ab0b3bf663194bc5193e50\", \"content\": \"Spain won the 2024 European Championship, becoming the first team to lift the trophy four times, beating England 2-1 thanks to a late winner from Mikel Oyarzabal.\"}, {\"url\": \"https://www.uefa.com/euro2024/news/028f-1b4e4a9a6d42-253a2c18efdf-1000--uefa-euro-2024-meet-the-winners/\", \"content\": \"UEFA EURO 2024 - UEFA EURO 2024: Meet the winners - News. UEFA EURO 2024: Meet the winners. Sunday, July 14, 2024. Article summary. Get the full lowdown on UEFA EURO 2024 winners Spain.\"}, {\"url\": \"https://en.wikipedia.org/wiki/UEFA_Euro_2024_Final\", \"content\": \"The UEFA Euro 2024 final was a football match that determined the winners of UEFA Euro 2024.The match was the seventeenth final of the European Championship, a quadrennial tournament contested by the men\\'s national teams of the member associations of UEFA to decide the champions of Europe. The match was held at the Olympiastadion in Berlin, Germany, on 14 July 2024, and was contested by Spain\"}]', name='tavily_search_results_json', tool_call_id='call_jyr5')]}}\n",
      "----\n",
      "{'agent': {'messages': [AIMessage(content='Spain won the 2024 European Championship.', response_metadata={'token_usage': {'completion_tokens': 10, 'prompt_tokens': 1345, 'total_tokens': 1355, 'completion_time': 0.028571429, 'prompt_time': 0.079692898, 'queue_time': 0.018779142999999998, 'total_time': 0.108264327}, 'model_name': 'llama3-70b-8192', 'system_fingerprint': 'fp_753a4aecf6', 'finish_reason': 'stop', 'logprobs': None}, id='run-cc5b3ab5-554b-428d-9601-95838da0ac71-0', usage_metadata={'input_tokens': 1345, 'output_tokens': 10, 'total_tokens': 1355})]}}\n",
      "----\n"
     ]
    }
   ],
   "source": [
    "for chunk in agent_executor.stream(\n",
    "    {\"messages\": [HumanMessage(content=\"Who won the 2024 soccer EUROCUP?\")]}, config\n",
    "):\n",
    "    print(chunk)\n",
    "    print(\"----\")"
   ]
  },
  {
   "cell_type": "code",
   "execution_count": 19,
   "metadata": {},
   "outputs": [
    {
     "name": "stdout",
     "output_type": "stream",
     "text": [
      "{'agent': {'messages': [AIMessage(content='', additional_kwargs={'tool_calls': [{'id': 'call_8s9q', 'function': {'arguments': '{\"query\":\"2024 EUROCUP winner team top players\"}', 'name': 'tavily_search_results_json'}, 'type': 'function'}]}, response_metadata={'token_usage': {'completion_tokens': 48, 'prompt_tokens': 1379, 'total_tokens': 1427, 'completion_time': 0.137206354, 'prompt_time': 0.078399276, 'queue_time': 0.031992522999999995, 'total_time': 0.21560563}, 'model_name': 'llama3-70b-8192', 'system_fingerprint': 'fp_753a4aecf6', 'finish_reason': 'tool_calls', 'logprobs': None}, id='run-7b7787dc-47bc-4a00-bb32-263a3c1e5aef-0', tool_calls=[{'name': 'tavily_search_results_json', 'args': {'query': '2024 EUROCUP winner team top players'}, 'id': 'call_8s9q', 'type': 'tool_call'}], usage_metadata={'input_tokens': 1379, 'output_tokens': 48, 'total_tokens': 1427})]}}\n",
      "----\n",
      "{'tools': {'messages': [ToolMessage(content='[{\"url\": \"https://www.givemesport.com/ranking-best-players-euro-2024/\", \"content\": \"The 20 Best Players at Euro 2024. Rank. Player. Team. 1. Kylian Mbappe. France. 2. Rodri. Spain. 3. Jude Bellingham. ... here are the top contenders to win the Young Player of the Tournament award.\"}, {\"url\": \"https://www.transfermarkt.com/europameisterschaft-2024/erfolge/pokalwettbewerb/EM24\", \"content\": \"This is an overview of all title holders of the competition EURO 2024 in chronological order. It also shows record winners and champion managers. ... National Team ; ... Top Scorer: Ivan Schranz 3 goals, Georges Mikautadze 3 goals, Jamal Musiala 3 goals, Harry Kane 3 goals, Cody Gakpo 3 goals, Dani Olmo 3 goals;\"}, {\"url\": \"https://www.90min.com/features/10-best-players-euro-2024-ranked\", \"content\": \"The 10 best players of Euro 2024 - ranked The 10 best players of Euro 2024 - ranked The best players of Euro 2024 The Three Lions number one was once again in superb form for his nation throughout Euro 2024, particularly in the early rounds when England\\'s attackers were struggling for form at the other end of the pitch. There was point during Euro 2024 in which Jamal Musiala looked certain to win Player of the Tournament. As expected, he was bloody brilliant at Euro 2024 for Spain and picked up the Player of the Tournament award, but he\\'s not our winner...\"}]', name='tavily_search_results_json', tool_call_id='call_8s9q')]}}\n",
      "----\n",
      "{'agent': {'messages': [AIMessage(content='According to the search results, some of the top stars of the 2024 EUROCUP winner team, Spain, include Rodri, Jude Bellingham, and Dani Olmo.', response_metadata={'token_usage': {'completion_tokens': 39, 'prompt_tokens': 1823, 'total_tokens': 1862, 'completion_time': 0.111428571, 'prompt_time': 0.117076087, 'queue_time': 0.01796336200000001, 'total_time': 0.228504658}, 'model_name': 'llama3-70b-8192', 'system_fingerprint': 'fp_753a4aecf6', 'finish_reason': 'stop', 'logprobs': None}, id='run-17f307d1-8e6a-44d4-9a09-714ddc30c347-0', usage_metadata={'input_tokens': 1823, 'output_tokens': 39, 'total_tokens': 1862})]}}\n",
      "----\n"
     ]
    }
   ],
   "source": [
    "for chunk in agent_executor.stream(\n",
    "    {\"messages\": [HumanMessage(content=\"Who were the top stars of 2024 EUROCUP winner team?\")]}, config\n",
    "):\n",
    "    print(chunk)\n",
    "    print(\"----\")"
   ]
  },
  {
   "cell_type": "code",
   "execution_count": 21,
   "metadata": {},
   "outputs": [
    {
     "name": "stdout",
     "output_type": "stream",
     "text": [
      "{'agent': {'messages': [AIMessage(content='We were talking about the Spain national soccer team, specifically their win in the 2024 European Championship (EUROCUP).', response_metadata={'token_usage': {'completion_tokens': 26, 'prompt_tokens': 1879, 'total_tokens': 1905, 'completion_time': 0.076634727, 'prompt_time': 0.115932354, 'queue_time': 0.11707601, 'total_time': 0.192567081}, 'model_name': 'llama3-70b-8192', 'system_fingerprint': 'fp_753a4aecf6', 'finish_reason': 'stop', 'logprobs': None}, id='run-3bafce86-1df0-4d05-9dcf-eebd5a260de6-0', usage_metadata={'input_tokens': 1879, 'output_tokens': 26, 'total_tokens': 1905})]}}\n",
      "----\n"
     ]
    }
   ],
   "source": [
    "config = {\"configurable\": {\"thread_id\": \"001\"}}\n",
    "for chunk in agent_executor.stream(\n",
    "    {\"messages\": [HumanMessage(content=\"About what soccer team we were talking?\")]}, config\n",
    "):\n",
    "    print(chunk)\n",
    "    print(\"----\")"
   ]
  },
  {
   "cell_type": "code",
   "execution_count": null,
   "metadata": {},
   "outputs": [],
   "source": []
  }
 ],
 "metadata": {
  "kernelspec": {
   "display_name": "llmapp",
   "language": "python",
   "name": "python3"
  },
  "language_info": {
   "codemirror_mode": {
    "name": "ipython",
    "version": 3
   },
   "file_extension": ".py",
   "mimetype": "text/x-python",
   "name": "python",
   "nbconvert_exporter": "python",
   "pygments_lexer": "ipython3",
   "version": "3.11.11"
  }
 },
 "nbformat": 4,
 "nbformat_minor": 2
}
